{
 "cells": [
  {
   "cell_type": "markdown",
   "id": "ca4ec034-8eb3-4166-a3cc-ed80e19a7062",
   "metadata": {},
   "source": [
    "# Airbnb Berlin – Multiple Linear Regression Project\n",
    "\n",
    "**Author:** Tan Shi Wei  \n",
    " \n",
    "**Date:** 13/9/2025  \n",
    "\n",
    "**Dataset Source:** [Inside Airbnb – Get The Data](http://insideairbnb.com/get-the-data.html)\n",
    "\n",
    "*Data used under the InsideAirbnb Community Guidelines. The raw dataset is not redistributed in this repository — please download it directly from the InsideAirbnb website if you wish to replicate this analysis.*\n",
    "\n",
    "**Attribution:** The data and variable definitions are provided by the InsideAirbnb project, which makes Airbnb data available for research and policy discussions."
   ]
  },
  {
   "cell_type": "markdown",
   "id": "84c24da2-ff58-4b81-8749-0ce24ad78660",
   "metadata": {},
   "source": [
    "## 1️⃣ Project Overview\n",
    "\n",
    "This project explores Airbnb listings in Berlin to predict listing prices using a multiple linear regression model.  \n",
    "\n",
    "**Objectives:**\n",
    "- Understand the data and its features.\n",
    "- Perform preprocessing and feature analysis.\n",
    "- Train and evaluate a multiple linear regression model.\n",
    "- Interpret results and visualize predicted vs actual prices."
   ]
  },
  {
   "cell_type": "markdown",
   "id": "97f3dc57-059e-43f7-ac77-5b68dba3ad93",
   "metadata": {},
   "source": [
    "## 2️⃣ Dataset Information\n",
    "\n",
    "**Files Used:**\n",
    "- `listings.csv` – Summary and detailed information for Airbnb listings in Berlin.\n",
    "\n",
    "**Key Features Considered:**\n",
    "\n",
    "> **Note:** This table highlights a small portion of the full Airbnb dataset. For the complete data dictionary, please refer to the [Inside Airbnb Data Dictionary](http://insideairbnb.com/get-the-data.html).\n",
    "\n",
    "| Feature | Type | Description |\n",
    "|---------|------|-------------|\n",
    "| accommodates | Numerical | Number of guests the listing can host |\n",
    "| bedrooms | Numerical | Number of bedrooms in the listing |\n",
    "| bathrooms | Numerical | Number of bathrooms in the listing |\n",
    "| number_of_reviews | Numerical | Total number of reviews received by the listing |\n",
    "| review_scores_rating | Numerical | Average guest review rating (out of 100) |\n",
    "| room_type | Categorical (OHE) | Type of room: Entire home/apt, Private room, Shared room, Hotel room |\n",
    "| property_type | Categorical (OHE) | Type of property: Apartment, House, Loft, etc. |\n",
    "| neighbourhood_cleansed | Categorical (OHE) | Administrative neighbourhood of the listing |\n",
    "| latitude | Numerical | Geographic latitude of the listing |\n",
    "| longitude | Numerical | Geographic longitude of the listing |\n",
    "| price | Target (Numerical) | Listing price per night (in local currency) |\n",
    "\n",
    "\n",
    "**Notes:**\n",
    "- Price contains currency symbols and must be converted to numeric.\n",
    "- Some listings have missing values in key columns and extreme price outliers.\n",
    "- Categorical features require one-hot encoding for regression."
   ]
  },
  {
   "cell_type": "markdown",
   "id": "e33257f7-3bb7-4a95-96c6-379e61736ee6",
   "metadata": {},
   "source": [
    "## 3️⃣ Libraries"
   ]
  },
  {
   "cell_type": "code",
   "execution_count": 1,
   "id": "405edc25-6e46-41bd-8235-238e73110f65",
   "metadata": {},
   "outputs": [],
   "source": [
    "import pandas as pd\n",
    "import numpy as np\n",
    "import seaborn as sns\n",
    "import matplotlib.pyplot as plt\n",
    "import category_encoders as ce\n",
    "from sklearn.preprocessing import StandardScaler, OneHotEncoder\n",
    "from sklearn.model_selection import train_test_split\n",
    "from sklearn.linear_model import LinearRegression\n",
    "from sklearn.metrics import mean_squared_error, r2_score"
   ]
  },
  {
   "cell_type": "markdown",
   "id": "e9c518a0-4bca-4fe3-8035-fca13d313527",
   "metadata": {},
   "source": [
    "## 4️⃣ Load Dataset"
   ]
  },
  {
   "cell_type": "code",
   "execution_count": 2,
   "id": "5603f725-88e1-445e-bae2-b7b966484c31",
   "metadata": {},
   "outputs": [
    {
     "data": {
      "text/html": [
       "<div>\n",
       "<style scoped>\n",
       "    .dataframe tbody tr th:only-of-type {\n",
       "        vertical-align: middle;\n",
       "    }\n",
       "\n",
       "    .dataframe tbody tr th {\n",
       "        vertical-align: top;\n",
       "    }\n",
       "\n",
       "    .dataframe thead th {\n",
       "        text-align: right;\n",
       "    }\n",
       "</style>\n",
       "<table border=\"1\" class=\"dataframe\">\n",
       "  <thead>\n",
       "    <tr style=\"text-align: right;\">\n",
       "      <th></th>\n",
       "      <th>id</th>\n",
       "      <th>listing_url</th>\n",
       "      <th>scrape_id</th>\n",
       "      <th>last_scraped</th>\n",
       "      <th>source</th>\n",
       "      <th>name</th>\n",
       "      <th>description</th>\n",
       "      <th>neighborhood_overview</th>\n",
       "      <th>picture_url</th>\n",
       "      <th>host_id</th>\n",
       "      <th>...</th>\n",
       "      <th>review_scores_communication</th>\n",
       "      <th>review_scores_location</th>\n",
       "      <th>review_scores_value</th>\n",
       "      <th>license</th>\n",
       "      <th>instant_bookable</th>\n",
       "      <th>calculated_host_listings_count</th>\n",
       "      <th>calculated_host_listings_count_entire_homes</th>\n",
       "      <th>calculated_host_listings_count_private_rooms</th>\n",
       "      <th>calculated_host_listings_count_shared_rooms</th>\n",
       "      <th>reviews_per_month</th>\n",
       "    </tr>\n",
       "  </thead>\n",
       "  <tbody>\n",
       "    <tr>\n",
       "      <th>0</th>\n",
       "      <td>3176</td>\n",
       "      <td>https://www.airbnb.com/rooms/3176</td>\n",
       "      <td>20250620182343</td>\n",
       "      <td>2025-06-21</td>\n",
       "      <td>city scrape</td>\n",
       "      <td>Fabulous Flat in great Location</td>\n",
       "      <td>This beautiful first floor apartment  is situa...</td>\n",
       "      <td>The neighbourhood is famous for its variety of...</td>\n",
       "      <td>https://a0.muscache.com/pictures/airflow/Hosti...</td>\n",
       "      <td>3718</td>\n",
       "      <td>...</td>\n",
       "      <td>4.70</td>\n",
       "      <td>4.92</td>\n",
       "      <td>4.61</td>\n",
       "      <td>NaN</td>\n",
       "      <td>f</td>\n",
       "      <td>1</td>\n",
       "      <td>1</td>\n",
       "      <td>0</td>\n",
       "      <td>0</td>\n",
       "      <td>0.76</td>\n",
       "    </tr>\n",
       "    <tr>\n",
       "      <th>1</th>\n",
       "      <td>9991</td>\n",
       "      <td>https://www.airbnb.com/rooms/9991</td>\n",
       "      <td>20250620182343</td>\n",
       "      <td>2025-06-21</td>\n",
       "      <td>city scrape</td>\n",
       "      <td>Geourgeous flat - outstanding views</td>\n",
       "      <td>4 bedroom with very large windows and outstand...</td>\n",
       "      <td>Prenzlauer Berg is an amazing neighbourhood wh...</td>\n",
       "      <td>https://a0.muscache.com/pictures/42799131/59c8...</td>\n",
       "      <td>33852</td>\n",
       "      <td>...</td>\n",
       "      <td>5.00</td>\n",
       "      <td>4.86</td>\n",
       "      <td>4.86</td>\n",
       "      <td>03/Z/RA/003410-18</td>\n",
       "      <td>f</td>\n",
       "      <td>1</td>\n",
       "      <td>1</td>\n",
       "      <td>0</td>\n",
       "      <td>0</td>\n",
       "      <td>0.06</td>\n",
       "    </tr>\n",
       "    <tr>\n",
       "      <th>2</th>\n",
       "      <td>14325</td>\n",
       "      <td>https://www.airbnb.com/rooms/14325</td>\n",
       "      <td>20250620182343</td>\n",
       "      <td>2025-06-21</td>\n",
       "      <td>city scrape</td>\n",
       "      <td>Studio Apartment in Prenzlauer Berg</td>\n",
       "      <td>The apartment is located on the upper second f...</td>\n",
       "      <td>NaN</td>\n",
       "      <td>https://a0.muscache.com/pictures/508703/24988a...</td>\n",
       "      <td>55531</td>\n",
       "      <td>...</td>\n",
       "      <td>4.85</td>\n",
       "      <td>4.60</td>\n",
       "      <td>4.45</td>\n",
       "      <td>NaN</td>\n",
       "      <td>f</td>\n",
       "      <td>4</td>\n",
       "      <td>4</td>\n",
       "      <td>0</td>\n",
       "      <td>0</td>\n",
       "      <td>0.14</td>\n",
       "    </tr>\n",
       "  </tbody>\n",
       "</table>\n",
       "<p>3 rows × 79 columns</p>\n",
       "</div>"
      ],
      "text/plain": [
       "      id                         listing_url       scrape_id last_scraped  \\\n",
       "0   3176   https://www.airbnb.com/rooms/3176  20250620182343   2025-06-21   \n",
       "1   9991   https://www.airbnb.com/rooms/9991  20250620182343   2025-06-21   \n",
       "2  14325  https://www.airbnb.com/rooms/14325  20250620182343   2025-06-21   \n",
       "\n",
       "        source                                 name  \\\n",
       "0  city scrape      Fabulous Flat in great Location   \n",
       "1  city scrape  Geourgeous flat - outstanding views   \n",
       "2  city scrape  Studio Apartment in Prenzlauer Berg   \n",
       "\n",
       "                                         description  \\\n",
       "0  This beautiful first floor apartment  is situa...   \n",
       "1  4 bedroom with very large windows and outstand...   \n",
       "2  The apartment is located on the upper second f...   \n",
       "\n",
       "                               neighborhood_overview  \\\n",
       "0  The neighbourhood is famous for its variety of...   \n",
       "1  Prenzlauer Berg is an amazing neighbourhood wh...   \n",
       "2                                                NaN   \n",
       "\n",
       "                                         picture_url  host_id  ...  \\\n",
       "0  https://a0.muscache.com/pictures/airflow/Hosti...     3718  ...   \n",
       "1  https://a0.muscache.com/pictures/42799131/59c8...    33852  ...   \n",
       "2  https://a0.muscache.com/pictures/508703/24988a...    55531  ...   \n",
       "\n",
       "  review_scores_communication review_scores_location review_scores_value  \\\n",
       "0                        4.70                   4.92                4.61   \n",
       "1                        5.00                   4.86                4.86   \n",
       "2                        4.85                   4.60                4.45   \n",
       "\n",
       "             license instant_bookable calculated_host_listings_count  \\\n",
       "0                NaN                f                              1   \n",
       "1  03/Z/RA/003410-18                f                              1   \n",
       "2                NaN                f                              4   \n",
       "\n",
       "  calculated_host_listings_count_entire_homes  \\\n",
       "0                                           1   \n",
       "1                                           1   \n",
       "2                                           4   \n",
       "\n",
       "  calculated_host_listings_count_private_rooms  \\\n",
       "0                                            0   \n",
       "1                                            0   \n",
       "2                                            0   \n",
       "\n",
       "  calculated_host_listings_count_shared_rooms reviews_per_month  \n",
       "0                                           0              0.76  \n",
       "1                                           0              0.06  \n",
       "2                                           0              0.14  \n",
       "\n",
       "[3 rows x 79 columns]"
      ]
     },
     "execution_count": 2,
     "metadata": {},
     "output_type": "execute_result"
    }
   ],
   "source": [
    "# Load listings data\n",
    "listings = pd.read_csv('data/listings.csv')\n",
    "\n",
    "# Preview the first few rows\n",
    "listings.head(3)"
   ]
  },
  {
   "cell_type": "markdown",
   "id": "e3dae5a3-9bf2-4b8c-bbed-2f05ed4c44ff",
   "metadata": {},
   "source": [
    "## 5️⃣ Data Cleaning & Merging\n",
    "\n",
    "Steps:\n",
    "- Drop irrelevant columns from listings.\n",
    "- Remove rows with `NA` values.\n",
    "- Convert `price` to numeric.\n",
    "- Remove extreme outliers for `price`."
   ]
  },
  {
   "cell_type": "code",
   "execution_count": 3,
   "id": "d66e14e1-58e6-4ef5-a070-c8458aea50bd",
   "metadata": {},
   "outputs": [],
   "source": [
    "# Define the minimal feature set\n",
    "keep_cols = [\n",
    "    'accommodates',\n",
    "    'bedrooms',\n",
    "    'bathrooms',\n",
    "    'room_type',\n",
    "    'property_type',\n",
    "    'neighbourhood_cleansed',\n",
    "    'price',\n",
    "    'review_scores_rating',\n",
    "    'number_of_reviews']\n",
    "\n",
    "# Keep only the relevant columns that exist in the dataset\n",
    "listings = listings[keep_cols]\n",
    "\n",
    "# Handle missing values in key features\n",
    "listings.dropna(inplace = True)\n",
    "\n",
    "# Convert price to numeric\n",
    "listings['price'] = [float(price.replace('$', '').replace(',', '')) for price in listings['price']]"
   ]
  },
  {
   "cell_type": "code",
   "execution_count": 4,
   "id": "bc8e19cd-c5ee-412e-a7cb-0f1fa0b81fc0",
   "metadata": {},
   "outputs": [
    {
     "name": "stdout",
     "output_type": "stream",
     "text": [
      "                              min      max  median    range  count\n",
      "property_type                                                     \n",
      "Room in hotel                38.0  50000.0   154.0  49962.0    194\n",
      "Entire rental unit           21.0  10000.0   126.0   9979.0   3810\n",
      "Entire home                  48.0   9999.0   166.0   9951.0    102\n",
      "Entire loft                  46.0   2500.0   154.0   2454.0    161\n",
      "Shared room in hostel        13.0   2310.0    33.0   2297.0     48\n",
      "Houseboat                    31.0   1306.0   236.0   1275.0     30\n",
      "Entire guest suite           50.0   1050.0   129.0   1000.0     17\n",
      "Private room in rental unit   5.0    940.0    63.0    935.0   1040\n",
      "Entire condo                 24.0    833.0   135.0    809.0    467\n",
      "Room in aparthotel           45.0    840.0   159.0    795.0     41\n"
     ]
    }
   ],
   "source": [
    "price_stats = listings.groupby('property_type')['price'].agg(['min', 'max', 'median']) # Compute min, max, and median\n",
    "price_stats['range'] = price_stats['max'] - price_stats['min'] # Compute range\n",
    "price_stats['count'] = listings['property_type'].value_counts() # Add count of listings per property_type\n",
    "price_stats = price_stats.sort_values(by = 'range', ascending = False) # Sort by descending range\n",
    "print(price_stats.head(10)) # Display top 10"
   ]
  },
  {
   "cell_type": "markdown",
   "id": "60f88d88-6903-459b-9193-645c81a2e899",
   "metadata": {},
   "source": [
    "The table shows descriptive statistics of Airbnb listing prices by `property_type`. While the median prices are generally moderate (e.g., 126–166 for most common types), the maximum prices are extreme, leading to very large ranges (e.g., “Room in hotel” has a range of 49,962). This highlights the presence of substantial outliers in certain property types, particularly those with fewer listings or luxury options. The count column shows that these extremes do not represent the majority of listings, reinforcing the need to remove outliers to prevent them from disproportionately influencing the model."
   ]
  },
  {
   "cell_type": "code",
   "execution_count": 5,
   "id": "39ced2a4-41ec-4f38-b6f5-a11e416fc766",
   "metadata": {},
   "outputs": [
    {
     "data": {
      "text/html": [
       "<div>\n",
       "<style scoped>\n",
       "    .dataframe tbody tr th:only-of-type {\n",
       "        vertical-align: middle;\n",
       "    }\n",
       "\n",
       "    .dataframe tbody tr th {\n",
       "        vertical-align: top;\n",
       "    }\n",
       "\n",
       "    .dataframe thead th {\n",
       "        text-align: right;\n",
       "    }\n",
       "</style>\n",
       "<table border=\"1\" class=\"dataframe\">\n",
       "  <thead>\n",
       "    <tr style=\"text-align: right;\">\n",
       "      <th></th>\n",
       "      <th>accommodates</th>\n",
       "      <th>bedrooms</th>\n",
       "      <th>bathrooms</th>\n",
       "      <th>room_type</th>\n",
       "      <th>property_type</th>\n",
       "      <th>neighbourhood_cleansed</th>\n",
       "      <th>price</th>\n",
       "      <th>review_scores_rating</th>\n",
       "      <th>number_of_reviews</th>\n",
       "    </tr>\n",
       "  </thead>\n",
       "  <tbody>\n",
       "    <tr>\n",
       "      <th>0</th>\n",
       "      <td>2</td>\n",
       "      <td>1.0</td>\n",
       "      <td>1.0</td>\n",
       "      <td>Entire home/apt</td>\n",
       "      <td>Entire rental unit</td>\n",
       "      <td>Prenzlauer Berg Südwest</td>\n",
       "      <td>105.0</td>\n",
       "      <td>4.63</td>\n",
       "      <td>149</td>\n",
       "    </tr>\n",
       "    <tr>\n",
       "      <th>1</th>\n",
       "      <td>7</td>\n",
       "      <td>4.0</td>\n",
       "      <td>2.5</td>\n",
       "      <td>Entire home/apt</td>\n",
       "      <td>Entire rental unit</td>\n",
       "      <td>Prenzlauer Berg Südwest</td>\n",
       "      <td>135.0</td>\n",
       "      <td>5.00</td>\n",
       "      <td>7</td>\n",
       "    </tr>\n",
       "    <tr>\n",
       "      <th>2</th>\n",
       "      <td>1</td>\n",
       "      <td>0.0</td>\n",
       "      <td>1.0</td>\n",
       "      <td>Entire home/apt</td>\n",
       "      <td>Entire rental unit</td>\n",
       "      <td>Prenzlauer Berg Nordwest</td>\n",
       "      <td>75.0</td>\n",
       "      <td>4.68</td>\n",
       "      <td>26</td>\n",
       "    </tr>\n",
       "    <tr>\n",
       "      <th>3</th>\n",
       "      <td>2</td>\n",
       "      <td>0.0</td>\n",
       "      <td>1.0</td>\n",
       "      <td>Entire home/apt</td>\n",
       "      <td>Entire rental unit</td>\n",
       "      <td>Reuterstraße</td>\n",
       "      <td>28.0</td>\n",
       "      <td>4.77</td>\n",
       "      <td>298</td>\n",
       "    </tr>\n",
       "    <tr>\n",
       "      <th>4</th>\n",
       "      <td>2</td>\n",
       "      <td>2.0</td>\n",
       "      <td>1.0</td>\n",
       "      <td>Entire home/apt</td>\n",
       "      <td>Entire rental unit</td>\n",
       "      <td>Brunnenstr. Süd</td>\n",
       "      <td>53.0</td>\n",
       "      <td>4.70</td>\n",
       "      <td>182</td>\n",
       "    </tr>\n",
       "  </tbody>\n",
       "</table>\n",
       "</div>"
      ],
      "text/plain": [
       "   accommodates  bedrooms  bathrooms        room_type       property_type  \\\n",
       "0             2       1.0        1.0  Entire home/apt  Entire rental unit   \n",
       "1             7       4.0        2.5  Entire home/apt  Entire rental unit   \n",
       "2             1       0.0        1.0  Entire home/apt  Entire rental unit   \n",
       "3             2       0.0        1.0  Entire home/apt  Entire rental unit   \n",
       "4             2       2.0        1.0  Entire home/apt  Entire rental unit   \n",
       "\n",
       "     neighbourhood_cleansed  price  review_scores_rating  number_of_reviews  \n",
       "0   Prenzlauer Berg Südwest  105.0                  4.63                149  \n",
       "1   Prenzlauer Berg Südwest  135.0                  5.00                  7  \n",
       "2  Prenzlauer Berg Nordwest   75.0                  4.68                 26  \n",
       "3              Reuterstraße   28.0                  4.77                298  \n",
       "4           Brunnenstr. Süd   53.0                  4.70                182  "
      ]
     },
     "execution_count": 5,
     "metadata": {},
     "output_type": "execute_result"
    }
   ],
   "source": [
    "# Remove price outliers (top 1%)\n",
    "\n",
    "min_group_size = 10\n",
    "group_sizes = listings['property_type'].value_counts() # Get property types with enough listings\n",
    "valid_groups = group_sizes[group_sizes >= min_group_size].index\n",
    "filtered_list = [] # Initialize an empty list to collect filtered DataFrames\n",
    "\n",
    "for group in valid_groups:\n",
    "    group_prices = listings.loc[listings['property_type'] == group, 'price'] # Select prices for the current group\n",
    "    upper_limit = group_prices.quantile(0.95) # Compute 99th percentile for this group\n",
    "    filtered_group = listings.loc[(listings['property_type'] == group) & (listings['price'] < upper_limit)] # Filter rows below the 99th percentile\n",
    "    if not filtered_group.empty:\n",
    "        filtered_list.append(filtered_group)\n",
    "\n",
    "listings = pd.concat(filtered_list, ignore_index = True) # Combine all filtered groups\n",
    "\n",
    "listings.head()"
   ]
  },
  {
   "cell_type": "markdown",
   "id": "0cc09693-f696-4f8b-afc9-3f04efebfe7b",
   "metadata": {},
   "source": [
    "## 6️⃣ Feature Engineering\n",
    "\n",
    "- Select numerical and categorical features.\n",
    "- One-hot encode, group encode and target encode categorical variables.\n",
    "- Standardize numerical features.\n",
    "- Split data into training and test sets."
   ]
  },
  {
   "cell_type": "code",
   "execution_count": 6,
   "id": "c41f19b1-5ed3-4e83-ba8d-91a7ddf35bd6",
   "metadata": {},
   "outputs": [
    {
     "data": {
      "text/plain": [
       "room_type                   4\n",
       "property_type              30\n",
       "neighbourhood_cleansed    135\n",
       "dtype: int64"
      ]
     },
     "execution_count": 6,
     "metadata": {},
     "output_type": "execute_result"
    }
   ],
   "source": [
    "cat_features = ['room_type', 'property_type', 'neighbourhood_cleansed']\n",
    "\n",
    "listings[cat_features].nunique()"
   ]
  },
  {
   "cell_type": "markdown",
   "id": "91167753-fbca-43ea-89fb-5785fb3e0a50",
   "metadata": {},
   "source": [
    "If one-hot encoding (OHE) were applied to these variables, it would create a sparse matrix, especially for `neighbourhood_cleansed`, which has 135 unique categories, resulting in many columns with mostly zeros."
   ]
  },
  {
   "cell_type": "markdown",
   "id": "e03cebb1-0856-4b09-9c56-f4f9669bc6cd",
   "metadata": {},
   "source": [
    "| Encoding Type       | How It Works in Airbnb Dataset                         | Pros                                        | Cons / Notes                                  |\n",
    "|--------------------|--------------------------------------------------------|--------------------------------------------|-----------------------------------------------|\n",
    "| One-Hot Encoding    | `room_type` → separate column for each type            | Easy to implement, interpretable           | Creates many columns if too many categories   |\n",
    "| Grouped Encoding    | Rare `property_type` grouped as \"Other\"               | Reduces columns, handles rare types        | Loses detail for rare property types          |\n",
    "| Target Encoding     | `neighbourhood_cleansed` → average `price` per area   | Captures price trends by neighborhood      | Reveals target values to the model during training.     |"
   ]
  },
  {
   "cell_type": "code",
   "execution_count": 7,
   "id": "ee1c2b1f-d94f-478c-a2d1-b583faf6c502",
   "metadata": {},
   "outputs": [],
   "source": [
    "# Numerical features\n",
    "num_features = [\n",
    "    'accommodates',\n",
    "    'bedrooms',\n",
    "    'bathrooms',\n",
    "    'review_scores_rating',\n",
    "    'number_of_reviews']\n",
    "\n",
    "# Initialize encoder\n",
    "encoder = OneHotEncoder(sparse_output = False, drop = 'first')\n",
    "\n",
    "# Grouped rare property types\n",
    "threshold = 0.01  \n",
    "prop_counts = listings['property_type'].value_counts(normalize = True)\n",
    "rare_props = prop_counts[prop_counts < threshold].index\n",
    "listings['property_type_grouped'] = listings['property_type'].replace(rare_props, 'Other')\n",
    "\n",
    "# OHE room_type and property_type_grouped together\n",
    "X_cat = encoder.fit_transform(listings[['room_type', 'property_type_grouped']])\n",
    "\n",
    "# Target Encode neighbourhood_cleansed\n",
    "target_encoder = ce.TargetEncoder(cols = ['neighbourhood_cleansed'])\n",
    "X_neigh = target_encoder.fit_transform(listings[['neighbourhood_cleansed']], listings['price'])\n",
    "\n",
    "# Combine numerical features with target-encoded neighbourhood\n",
    "X_num_combined = pd.concat([listings[num_features].reset_index(drop = True), X_neigh.reset_index(drop = True)], axis=1)\n",
    "\n",
    "# Scale numerical features\n",
    "scaler = StandardScaler()\n",
    "X_num_scaled = scaler.fit_transform(X_num_combined)\n",
    "\n",
    "# Combine all features\n",
    "X = np.hstack([X_num_scaled, X_cat])\n",
    "y = listings['price'].to_numpy()\n",
    "\n",
    "# Train/test split\n",
    "X_train, X_test, y_train, y_test = train_test_split(X, y, test_size = 0.2, random_state = 42)"
   ]
  },
  {
   "cell_type": "markdown",
   "id": "66db8332-8035-4613-afa7-c4580359a6b6",
   "metadata": {},
   "source": [
    "## 7️⃣ Modeling – Multiple Linear Regression"
   ]
  },
  {
   "cell_type": "code",
   "execution_count": 8,
   "id": "042a0e10-6f24-4242-8634-afa4468b7c1a",
   "metadata": {},
   "outputs": [],
   "source": [
    "# Initialize and train model\n",
    "lr_model = LinearRegression()\n",
    "lr_model.fit(X_train, y_train)\n",
    "\n",
    "# Predict\n",
    "y_pred_train = lr_model.predict(X_train)\n",
    "y_pred_test = lr_model.predict(X_test)"
   ]
  },
  {
   "cell_type": "markdown",
   "id": "b596b246-7a59-4fe2-9a4e-887b084a516f",
   "metadata": {},
   "source": [
    "## 8️⃣ Model Evaluation"
   ]
  },
  {
   "cell_type": "code",
   "execution_count": 9,
   "id": "a3c1a313-9bb6-4f1a-a1c4-a3a30cef618b",
   "metadata": {},
   "outputs": [
    {
     "name": "stdout",
     "output_type": "stream",
     "text": [
      "Train MSE: 2291.99\n",
      "Test MSE: 2311.65\n",
      "Train R²: 0.536\n",
      "Test R²: 0.534\n"
     ]
    },
    {
     "data": {
      "image/png": "[encoded data removed]",
      "text/plain": [
       "<Figure size 800x500 with 1 Axes>"
      ]
     },
     "metadata": {},
     "output_type": "display_data"
    }
   ],
   "source": [
    "# Metrics\n",
    "print(f\"Train MSE: {mean_squared_error(y_train, y_pred_train):.2f}\")\n",
    "print(f\"Test MSE: {mean_squared_error(y_test, y_pred_test):.2f}\")\n",
    "print(f\"Train R²: {r2_score(y_train, y_pred_train):.3f}\")\n",
    "print(f\"Test R²: {r2_score(y_test, y_pred_test):.3f}\")\n",
    "\n",
    "# Plot predicted vs actual prices\n",
    "plt.figure(figsize = (8, 5))\n",
    "plt.scatter(y_test, y_pred_test, alpha = 0.5)\n",
    "plt.plot([0, upper_limit],[0, upper_limit], color = 'red', linestyle = '--')\n",
    "plt.xlabel(\"Actual Price\")\n",
    "plt.ylabel(\"Predicted Price\")\n",
    "plt.title(\"Predictions vs Actual Prices\")\n",
    "plt.grid(True)\n",
    "plt.show()"
   ]
  },
  {
   "cell_type": "markdown",
   "id": "3abd34e0-2cec-46db-b58c-2ee49f1534ca",
   "metadata": {},
   "source": [
    "The model shows moderate predictive performance, with a training MSE of 2291.99 and test MSE of 2311.65, indicating that on average the squared difference between predicted and actual prices is ~2300. The R² values of 0.536 on the training set and 0.534 on the test set suggest that the model explains roughly 53% of the variance in price and generalizes reasonably well to unseen data."
   ]
  },
  {
   "cell_type": "markdown",
   "id": "7f1af086-3f7e-4dd7-8277-82abbe093120",
   "metadata": {},
   "source": [
    "## 9️⃣ Feature Importance\n",
    "\n",
    "Although linear regression coefficients can indicate importance, standardization helps in comparing feature influence."
   ]
  },
  {
   "cell_type": "code",
   "execution_count": 10,
   "id": "0a209c8f-fc99-4629-a704-d5a707175aeb",
   "metadata": {},
   "outputs": [
    {
     "data": {
      "text/plain": [
       "property_type_grouped_Entire home                   -116.514110\n",
       "property_type_grouped_Other                           58.201415\n",
       "property_type_grouped_Private room in rental unit    -45.456918\n",
       "room_type_Private room                                45.120964\n",
       "neighbourhood_cleansed                                38.432097\n",
       "property_type_grouped_Room in hotel                  -37.915892\n",
       "property_type_grouped_Private room in home           -34.955390\n",
       "accommodates                                          24.355515\n",
       "room_type_Hotel room                                  15.487973\n",
       "bedrooms                                              12.496238\n",
       "dtype: float64"
      ]
     },
     "execution_count": 10,
     "metadata": {},
     "output_type": "execute_result"
    }
   ],
   "source": [
    "# OHE feature names\n",
    "ohe_feature_names = encoder.get_feature_names_out()\n",
    "\n",
    "# Combine all feature names\n",
    "feature_names = list(num_features) + list(ohe_feature_names) + ['neighbourhood_cleansed']\n",
    "\n",
    "# Feature importance ranked by absolute coefficient values\n",
    "coefficients_abs = pd.Series(lr_model.coef_, index = feature_names)\n",
    "coefficients_ranked = coefficients_abs.reindex(coefficients_abs.abs().sort_values(ascending = False).index)\n",
    "\n",
    "# Show top 10 features by absolute importance\n",
    "coefficients_ranked.head(10)"
   ]
  },
  {
   "cell_type": "markdown",
   "id": "3c74c0b4-9bef-45cf-9b96-d0e5097328e5",
   "metadata": {},
   "source": [
    "The feature importance shows that `property_type_grouped_Entire home` has the largest negative impact on price, while `property_type_grouped_Other` has a strong positive effect. Other significant features include `room_type_Private room` and `neighbourhood_cleansed`, indicating that both the type of property and the neighborhood are important drivers of Airbnb listing prices. Among numerical features, `accommodates` and `bedrooms` also contribute positively, but to a lesser extent."
   ]
  },
  {
   "cell_type": "markdown",
   "id": "3c28a415-85ec-4d96-a873-36d37cecdb58",
   "metadata": {},
   "source": [
    "## 🔟 Conclusion\n",
    "\n",
    "The multiple linear regression model predicts Airbnb listing prices using a combination of numerical, categorical, and aggregated review features. Model performance, evaluated via MSE and R² on both training and test sets, indicates a reasonable fit. Visual inspection of predicted versus actual prices confirms this, although some variability remains, likely due to factors such as location, property type, and seasonal demand.\n",
    "\n",
    "Potential avenues for improvement include:\n",
    "\n",
    "- Incorporating time-based features from reviews.csv to capture recency and trends in ratings.\n",
    "\n",
    "- Adding spatial features, such as distance to landmarks or neighborhood characteristics.\n",
    "\n",
    "- Applying regularized regression methods (Ridge, Lasso) to mitigate multicollinearity and reduce overfitting."
   ]
  }
 ],
 "metadata": {
  "kernelspec": {
   "display_name": "Python 3 (ipykernel)",
   "language": "python",
   "name": "python3"
  },
  "language_info": {
   "codemirror_mode": {
    "name": "ipython",
    "version": 3
   },
   "file_extension": ".py",
   "mimetype": "text/x-python",
   "name": "python",
   "nbconvert_exporter": "python",
   "pygments_lexer": "ipython3",
   "version": "3.12.5"
  }
 },
 "nbformat": 4,
 "nbformat_minor": 5
}
