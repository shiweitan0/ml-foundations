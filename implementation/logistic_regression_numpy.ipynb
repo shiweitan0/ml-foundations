{
 "cells": [
  {
   "cell_type": "markdown",
   "id": "31b16d88-780a-4679-a3fa-6e66243cf53f",
   "metadata": {},
   "source": [
    "# Logistic Regression (NumPy Implementation)\n",
    "\n",
    "This notebook demonstrates logistic regression implemented from scratch using NumPy, providing a hands-on translation of the underlying mathematics into code. \n",
    "Unlike using scikit-learn’s built-in models, this approach exposes the full computation process, from cost calculation to gradient descent updates. \n",
    "It also complements the theory notes in `theory/logistic_regression_math.md`, creating a clear bridge from **mathematical concepts** → **algorithmic implementation** → **model results**."
   ]
  },
  {
   "cell_type": "markdown",
   "id": "a964f9a2-2e7b-480c-92b9-8a7111988fe5",
   "metadata": {},
   "source": [
    "## Scenario: Student Performance Prediction\n",
    "\n",
    "To make the implementation concrete, we use a synthetic dataset representing **students preparing for an exam**.  \n",
    "The features include:\n",
    "- Age  \n",
    "- Study hours per day  \n",
    "- Attendance percentage  \n",
    "- Class participation level  \n",
    "- Average sleep hours  \n",
    "\n",
    "We consider two prediction tasks:\n",
    "\n",
    "1. **Binary Logistic Regression**:  \n",
    "   Predict whether a student will **pass (1)** or **fail (0)** the exam.  \n",
    "\n",
    "2. **Multiclass Logistic Regression**:  \n",
    "   Predict the performance group a student belongs to:  \n",
    "   - **Class 0** → Low performers (likely to fail)  \n",
    "   - **Class 1** → Average performers (borderline pass)  \n",
    "   - **Class 2** → High performers (likely to excel)  \n",
    "\n",
    "This way, we can see how logistic regression handles both binary and multiclass classification using the same underlying principles."
   ]
  },
  {
   "cell_type": "markdown",
   "id": "f8fc8b79-e450-4c2e-bc5b-49f6f43e584d",
   "metadata": {},
   "source": [
    "## Imports"
   ]
  },
  {
   "cell_type": "code",
   "execution_count": 1,
   "id": "5dd4e0ca-3f32-4e74-a044-71d17170b507",
   "metadata": {},
   "outputs": [],
   "source": [
    "import numpy as np\n",
    "import pandas as pd\n",
    "import matplotlib.pyplot as plt\n",
    "from sklearn.preprocessing import StandardScaler\n",
    "from sklearn.preprocessing import OneHotEncoder"
   ]
  },
  {
   "cell_type": "markdown",
   "id": "78e027be-3384-4aaf-89d9-6e50821723ae",
   "metadata": {},
   "source": [
    "## Helper Function"
   ]
  },
  {
   "cell_type": "code",
   "execution_count": 2,
   "id": "9c454133-6fb0-4d93-aeff-90a370d7cdd8",
   "metadata": {},
   "outputs": [],
   "source": [
    "def generate_student_data(m = 2000, num_classes = 2, random_state = 42):\n",
    "    \"\"\"\n",
    "    Generate synthetic student performance data.\n",
    "    \n",
    "    Parameters\n",
    "    ----------\n",
    "    m : int\n",
    "        Number of examples (students).\n",
    "    num_classes : int\n",
    "        2 = binary (pass/fail), >2 = multiclass (performance groups).\n",
    "    random_state : int\n",
    "        Random seed for reproducibility.\n",
    "    \n",
    "    Returns\n",
    "    -------\n",
    "    df : pandas.DataFrame\n",
    "        Dataset with features and labels.\n",
    "    X : np.ndarray\n",
    "        Standardized feature matrix.\n",
    "    y : np.ndarray\n",
    "        Labels (0/1 for binary, class indices for multiclass).\n",
    "    \"\"\"\n",
    "    np.random.seed(random_state)\n",
    "\n",
    "    # Features\n",
    "    age = np.random.randint(18, 25, m)\n",
    "    study_hours = np.random.randint(1, 20, m)\n",
    "    attendance = np.random.randint(50, 101, m)\n",
    "    participation = np.random.randint(1, 5, m)\n",
    "    sleep_hours = np.random.randint(2, 9, m)\n",
    "\n",
    "    feature_names = [\"age\", \"study_hours\", \"attendance\", \"participation\", \"sleep_hours\"]\n",
    "\n",
    "    # Standardize features\n",
    "    scaler = StandardScaler()\n",
    "    raw_data = np.column_stack([age, study_hours, attendance, participation, sleep_hours])\n",
    "    X = scaler.fit_transform(raw_data)\n",
    "\n",
    "    if num_classes == 2:\n",
    "        # Binary classification\n",
    "        assigned_weights = [-0.3, 1.2, 0.8, 0.5, 0.4]\n",
    "        bias = -0.5\n",
    "\n",
    "        z = np.dot(X, assigned_weights) + bias\n",
    "        prob = 1 / (1 + np.exp(-z))\n",
    "        y = (prob > 0.5).astype(int)\n",
    "\n",
    "    else:\n",
    "        # Multiclass classification\n",
    "        assigned_weights = np.array([\n",
    "            [-0.3,  1.2,  0.8,  0.5,  0.4],  # Class 0\n",
    "            [ 0.5, -0.8,  0.2, -0.3,  0.1],  # Class 1\n",
    "            [ 0.1,  0.3, -0.5,  0.2, -0.1]   # Class 2\n",
    "        ])\n",
    "        bias = np.array([-0.5, 0.2, 0.1])\n",
    "\n",
    "        z = np.dot(X, assigned_weights.T) + bias\n",
    "        exp_z = np.exp(z)  \n",
    "        prob = exp_z / np.sum(exp_z, axis = 1, keepdims = True)\n",
    "        y = np.argmax(prob, axis=1)\n",
    "\n",
    "    # Compile into DataFrame\n",
    "    df = pd.DataFrame(\n",
    "        data = np.column_stack([raw_data, y]),\n",
    "        columns = feature_names + [\"labels\"])\n",
    "\n",
    "    return df, X, y"
   ]
  },
  {
   "cell_type": "markdown",
   "id": "c5a77560-ddc5-4f60-87f5-a8e5095bb65e",
   "metadata": {},
   "source": [
    "## Binary Logistic Regression - Example Scenario"
   ]
  },
  {
   "cell_type": "markdown",
   "id": "58382028-365f-4c10-a316-a626fb8ad8ae",
   "metadata": {},
   "source": [
    "### Generate synthetic data"
   ]
  },
  {
   "cell_type": "code",
   "execution_count": 3,
   "id": "bbfff863-595c-4da4-ba94-7fea82d41f8c",
   "metadata": {},
   "outputs": [],
   "source": [
    "df, X, y = generate_student_data(m = 2000, num_classes = 2, random_state = 42)"
   ]
  },
  {
   "cell_type": "markdown",
   "id": "fc0ab790-e842-4852-b053-614594ce15a1",
   "metadata": {},
   "source": [
    "### Understanding data"
   ]
  },
  {
   "cell_type": "code",
   "execution_count": 4,
   "id": "48967be6-4092-4ce2-8fc5-116b14d21c4a",
   "metadata": {},
   "outputs": [
    {
     "data": {
      "text/html": [
       "<div>\n",
       "<style scoped>\n",
       "    .dataframe tbody tr th:only-of-type {\n",
       "        vertical-align: middle;\n",
       "    }\n",
       "\n",
       "    .dataframe tbody tr th {\n",
       "        vertical-align: top;\n",
       "    }\n",
       "\n",
       "    .dataframe thead th {\n",
       "        text-align: right;\n",
       "    }\n",
       "</style>\n",
       "<table border=\"1\" class=\"dataframe\">\n",
       "  <thead>\n",
       "    <tr style=\"text-align: right;\">\n",
       "      <th></th>\n",
       "      <th>age</th>\n",
       "      <th>study_hours</th>\n",
       "      <th>attendance</th>\n",
       "      <th>participation</th>\n",
       "      <th>sleep_hours</th>\n",
       "      <th>labels</th>\n",
       "    </tr>\n",
       "  </thead>\n",
       "  <tbody>\n",
       "    <tr>\n",
       "      <th>0</th>\n",
       "      <td>24</td>\n",
       "      <td>8</td>\n",
       "      <td>59</td>\n",
       "      <td>2</td>\n",
       "      <td>6</td>\n",
       "      <td>0</td>\n",
       "    </tr>\n",
       "    <tr>\n",
       "      <th>1</th>\n",
       "      <td>21</td>\n",
       "      <td>13</td>\n",
       "      <td>85</td>\n",
       "      <td>3</td>\n",
       "      <td>7</td>\n",
       "      <td>1</td>\n",
       "    </tr>\n",
       "    <tr>\n",
       "      <th>2</th>\n",
       "      <td>22</td>\n",
       "      <td>19</td>\n",
       "      <td>86</td>\n",
       "      <td>1</td>\n",
       "      <td>5</td>\n",
       "      <td>1</td>\n",
       "    </tr>\n",
       "    <tr>\n",
       "      <th>3</th>\n",
       "      <td>24</td>\n",
       "      <td>3</td>\n",
       "      <td>77</td>\n",
       "      <td>2</td>\n",
       "      <td>6</td>\n",
       "      <td>0</td>\n",
       "    </tr>\n",
       "    <tr>\n",
       "      <th>4</th>\n",
       "      <td>20</td>\n",
       "      <td>8</td>\n",
       "      <td>77</td>\n",
       "      <td>2</td>\n",
       "      <td>3</td>\n",
       "      <td>0</td>\n",
       "    </tr>\n",
       "    <tr>\n",
       "      <th>...</th>\n",
       "      <td>...</td>\n",
       "      <td>...</td>\n",
       "      <td>...</td>\n",
       "      <td>...</td>\n",
       "      <td>...</td>\n",
       "      <td>...</td>\n",
       "    </tr>\n",
       "    <tr>\n",
       "      <th>1995</th>\n",
       "      <td>21</td>\n",
       "      <td>17</td>\n",
       "      <td>50</td>\n",
       "      <td>2</td>\n",
       "      <td>8</td>\n",
       "      <td>1</td>\n",
       "    </tr>\n",
       "    <tr>\n",
       "      <th>1996</th>\n",
       "      <td>22</td>\n",
       "      <td>18</td>\n",
       "      <td>100</td>\n",
       "      <td>2</td>\n",
       "      <td>8</td>\n",
       "      <td>1</td>\n",
       "    </tr>\n",
       "    <tr>\n",
       "      <th>1997</th>\n",
       "      <td>22</td>\n",
       "      <td>12</td>\n",
       "      <td>85</td>\n",
       "      <td>2</td>\n",
       "      <td>3</td>\n",
       "      <td>0</td>\n",
       "    </tr>\n",
       "    <tr>\n",
       "      <th>1998</th>\n",
       "      <td>18</td>\n",
       "      <td>9</td>\n",
       "      <td>73</td>\n",
       "      <td>2</td>\n",
       "      <td>3</td>\n",
       "      <td>0</td>\n",
       "    </tr>\n",
       "    <tr>\n",
       "      <th>1999</th>\n",
       "      <td>19</td>\n",
       "      <td>5</td>\n",
       "      <td>76</td>\n",
       "      <td>4</td>\n",
       "      <td>5</td>\n",
       "      <td>0</td>\n",
       "    </tr>\n",
       "  </tbody>\n",
       "</table>\n",
       "<p>2000 rows × 6 columns</p>\n",
       "</div>"
      ],
      "text/plain": [
       "      age  study_hours  attendance  participation  sleep_hours  labels\n",
       "0      24            8          59              2            6       0\n",
       "1      21           13          85              3            7       1\n",
       "2      22           19          86              1            5       1\n",
       "3      24            3          77              2            6       0\n",
       "4      20            8          77              2            3       0\n",
       "...   ...          ...         ...            ...          ...     ...\n",
       "1995   21           17          50              2            8       1\n",
       "1996   22           18         100              2            8       1\n",
       "1997   22           12          85              2            3       0\n",
       "1998   18            9          73              2            3       0\n",
       "1999   19            5          76              4            5       0\n",
       "\n",
       "[2000 rows x 6 columns]"
      ]
     },
     "execution_count": 4,
     "metadata": {},
     "output_type": "execute_result"
    }
   ],
   "source": [
    "df"
   ]
  },
  {
   "cell_type": "code",
   "execution_count": 5,
   "id": "071e6d79-2566-4596-962e-6db942b816f4",
   "metadata": {},
   "outputs": [
    {
     "name": "stdout",
     "output_type": "stream",
     "text": [
      "<class 'pandas.core.frame.DataFrame'>\n",
      "RangeIndex: 2000 entries, 0 to 1999\n",
      "Data columns (total 6 columns):\n",
      " #   Column         Non-Null Count  Dtype\n",
      "---  ------         --------------  -----\n",
      " 0   age            2000 non-null   int32\n",
      " 1   study_hours    2000 non-null   int32\n",
      " 2   attendance     2000 non-null   int32\n",
      " 3   participation  2000 non-null   int32\n",
      " 4   sleep_hours    2000 non-null   int32\n",
      " 5   labels         2000 non-null   int32\n",
      "dtypes: int32(6)\n",
      "memory usage: 47.0 KB\n"
     ]
    }
   ],
   "source": [
    "df.info()"
   ]
  },
  {
   "cell_type": "code",
   "execution_count": 6,
   "id": "03caf417-1312-4e3a-b36e-2b34391a2157",
   "metadata": {},
   "outputs": [
    {
     "data": {
      "text/html": [
       "<div>\n",
       "<style scoped>\n",
       "    .dataframe tbody tr th:only-of-type {\n",
       "        vertical-align: middle;\n",
       "    }\n",
       "\n",
       "    .dataframe tbody tr th {\n",
       "        vertical-align: top;\n",
       "    }\n",
       "\n",
       "    .dataframe thead th {\n",
       "        text-align: right;\n",
       "    }\n",
       "</style>\n",
       "<table border=\"1\" class=\"dataframe\">\n",
       "  <thead>\n",
       "    <tr style=\"text-align: right;\">\n",
       "      <th></th>\n",
       "      <th>age</th>\n",
       "      <th>study_hours</th>\n",
       "      <th>attendance</th>\n",
       "      <th>participation</th>\n",
       "      <th>sleep_hours</th>\n",
       "      <th>labels</th>\n",
       "    </tr>\n",
       "  </thead>\n",
       "  <tbody>\n",
       "    <tr>\n",
       "      <th>count</th>\n",
       "      <td>2000.000000</td>\n",
       "      <td>2000.000000</td>\n",
       "      <td>2000.000000</td>\n",
       "      <td>2000.000000</td>\n",
       "      <td>2000.000000</td>\n",
       "      <td>2000.000000</td>\n",
       "    </tr>\n",
       "    <tr>\n",
       "      <th>mean</th>\n",
       "      <td>20.967000</td>\n",
       "      <td>9.984000</td>\n",
       "      <td>75.050000</td>\n",
       "      <td>2.485000</td>\n",
       "      <td>4.985500</td>\n",
       "      <td>0.379000</td>\n",
       "    </tr>\n",
       "    <tr>\n",
       "      <th>std</th>\n",
       "      <td>2.014433</td>\n",
       "      <td>5.467329</td>\n",
       "      <td>14.727897</td>\n",
       "      <td>1.105616</td>\n",
       "      <td>1.992806</td>\n",
       "      <td>0.485259</td>\n",
       "    </tr>\n",
       "    <tr>\n",
       "      <th>min</th>\n",
       "      <td>18.000000</td>\n",
       "      <td>1.000000</td>\n",
       "      <td>50.000000</td>\n",
       "      <td>1.000000</td>\n",
       "      <td>2.000000</td>\n",
       "      <td>0.000000</td>\n",
       "    </tr>\n",
       "    <tr>\n",
       "      <th>25%</th>\n",
       "      <td>19.000000</td>\n",
       "      <td>5.000000</td>\n",
       "      <td>62.000000</td>\n",
       "      <td>2.000000</td>\n",
       "      <td>3.000000</td>\n",
       "      <td>0.000000</td>\n",
       "    </tr>\n",
       "    <tr>\n",
       "      <th>50%</th>\n",
       "      <td>21.000000</td>\n",
       "      <td>10.000000</td>\n",
       "      <td>75.000000</td>\n",
       "      <td>2.000000</td>\n",
       "      <td>5.000000</td>\n",
       "      <td>0.000000</td>\n",
       "    </tr>\n",
       "    <tr>\n",
       "      <th>75%</th>\n",
       "      <td>23.000000</td>\n",
       "      <td>15.000000</td>\n",
       "      <td>88.000000</td>\n",
       "      <td>3.000000</td>\n",
       "      <td>7.000000</td>\n",
       "      <td>1.000000</td>\n",
       "    </tr>\n",
       "    <tr>\n",
       "      <th>max</th>\n",
       "      <td>24.000000</td>\n",
       "      <td>19.000000</td>\n",
       "      <td>100.000000</td>\n",
       "      <td>4.000000</td>\n",
       "      <td>8.000000</td>\n",
       "      <td>1.000000</td>\n",
       "    </tr>\n",
       "  </tbody>\n",
       "</table>\n",
       "</div>"
      ],
      "text/plain": [
       "               age  study_hours   attendance  participation  sleep_hours  \\\n",
       "count  2000.000000  2000.000000  2000.000000    2000.000000  2000.000000   \n",
       "mean     20.967000     9.984000    75.050000       2.485000     4.985500   \n",
       "std       2.014433     5.467329    14.727897       1.105616     1.992806   \n",
       "min      18.000000     1.000000    50.000000       1.000000     2.000000   \n",
       "25%      19.000000     5.000000    62.000000       2.000000     3.000000   \n",
       "50%      21.000000    10.000000    75.000000       2.000000     5.000000   \n",
       "75%      23.000000    15.000000    88.000000       3.000000     7.000000   \n",
       "max      24.000000    19.000000   100.000000       4.000000     8.000000   \n",
       "\n",
       "            labels  \n",
       "count  2000.000000  \n",
       "mean      0.379000  \n",
       "std       0.485259  \n",
       "min       0.000000  \n",
       "25%       0.000000  \n",
       "50%       0.000000  \n",
       "75%       1.000000  \n",
       "max       1.000000  "
      ]
     },
     "execution_count": 6,
     "metadata": {},
     "output_type": "execute_result"
    }
   ],
   "source": [
    "df.describe()"
   ]
  },
  {
   "cell_type": "markdown",
   "id": "85d358c9-7194-42a7-85a8-09fb3fb1eacc",
   "metadata": {},
   "source": [
    "### NumPy Implementation"
   ]
  },
  {
   "cell_type": "markdown",
   "id": "cee516db-1d2f-4cd8-9232-0b4f07e89369",
   "metadata": {},
   "source": [
    "The binary cross-entropy loss:\n",
    "\n",
    "$$\n",
    "J(w,b) = -\\frac{1}{m}\\sum_{i=1}^m \\Big[ y^{(i)}\\log\\hat{y}^{(i)} + (1-y^{(i)})\\log(1-\\hat{y}^{(i)}) \\Big]\n",
    "$$"
   ]
  },
  {
   "cell_type": "code",
   "execution_count": 7,
   "id": "e8a3c5fb-851f-4fcc-a8eb-e289761a83dc",
   "metadata": {},
   "outputs": [],
   "source": [
    "# Cost Function\n",
    "def compute_cost(X, y, w, b):\n",
    "    \"\"\"\n",
    "    Compute logistic regression cost function (binary cross-entropy).\n",
    "    \n",
    "    Parameters\n",
    "    ----------\n",
    "    X : np.ndarray, shape (m, n)\n",
    "        Feature matrix where m = number of examples, n = number of features.\n",
    "    y : np.ndarray, shape (m,)\n",
    "        True labels (0 or 1).\n",
    "    w : np.ndarray, shape (n,)\n",
    "        Weight vector.\n",
    "    b : float\n",
    "        Bias term.\n",
    "    \n",
    "    Returns\n",
    "    -------\n",
    "    cost : float\n",
    "        Average logistic regression loss over all examples.\n",
    "    \n",
    "    Notes\n",
    "    -----\n",
    "    - For each example i:\n",
    "        zᵢ = X[i]·w + b\n",
    "        ŷᵢ = sigmoid(zᵢ) = 1 / (1 + exp(-zᵢ))\n",
    "        lossᵢ = - yᵢ log(ŷᵢ) - (1 - yᵢ) log(1 - ŷᵢ)\n",
    "    \n",
    "    - The final cost is the mean of all individual losses:\n",
    "        J(w, b) = (1/m) Σ lossᵢ\n",
    "    \"\"\"\n",
    "    z = np.dot(X, w) + b\n",
    "    y_hat = 1 / (1 + np.exp(-z))\n",
    "    cost = -np.mean(y * np.log(y_hat) + (1 - y) * np.log(1 - y_hat))\n",
    "    return cost"
   ]
  },
  {
   "cell_type": "code",
   "execution_count": 8,
   "id": "56690d23-2420-4f01-9470-bfc44bcffa47",
   "metadata": {},
   "outputs": [
    {
     "data": {
      "text/plain": [
       "0.6931471805599454"
      ]
     },
     "execution_count": 8,
     "metadata": {},
     "output_type": "execute_result"
    }
   ],
   "source": [
    "w_initial = np.zeros(5)\n",
    "b_initial = 0.0\n",
    "\n",
    "X = df.iloc[:, :5].to_numpy()\n",
    "y = df.iloc[:, -1].to_numpy()\n",
    "\n",
    "compute_cost(X, y, w_initial, b_initial)"
   ]
  },
  {
   "cell_type": "markdown",
   "id": "f696cbb9-f669-493a-b31b-4355bd29d242",
   "metadata": {},
   "source": [
    "This output represents the initial cost of the binary logistic regression model when all weights and biases are set to zero and no training has been done yet."
   ]
  },
  {
   "cell_type": "markdown",
   "id": "f21180dd-9023-46dc-9052-61dc647cfd51",
   "metadata": {},
   "source": [
    "Gradients:\n",
    "\n",
    "$$\n",
    "\\frac{\\partial J}{\\partial w_j} = \\frac{1}{m} \\sum_{i=1}^m \\big( \\hat{y}^{(i)} - y^{(i)} \\big) x_j^{(i)}\n",
    "$$\n",
    "\n",
    "$$\n",
    "\\frac{\\partial J}{\\partial b} = \\frac{1}{m} \\sum_{i=1}^m \\big( \\hat{y}^{(i)} - y^{(i)} \\big)\n",
    "$$\n",
    "\n",
    "Gradient Update:\n",
    "\n",
    "$$\n",
    "w_j := w_j - \\alpha \\frac{\\partial J}{\\partial w_j}, \\quad\n",
    "b := b - \\alpha \\frac{\\partial J}{\\partial b}\n",
    "$$"
   ]
  },
  {
   "cell_type": "code",
   "execution_count": 9,
   "id": "f0c83f5e-2efe-4730-b178-97ffe5627d66",
   "metadata": {},
   "outputs": [],
   "source": [
    "# Gradient Descent Function\n",
    "def gradient_update(X, y, w, b, alpha, num_iters):\n",
    "    \"\"\"\n",
    "    Perform gradient descent for binary logistic regression.\n",
    "\n",
    "    Parameters\n",
    "    ----------\n",
    "    X : np.ndarray, shape (m, n)\n",
    "        Feature matrix with m examples and n features.\n",
    "    y : np.ndarray, shape (m,)\n",
    "        True binary labels (0 or 1).\n",
    "    w : np.ndarray, shape (n,)\n",
    "        Weight vector.\n",
    "    b : float\n",
    "        Bias term.\n",
    "    alpha : float\n",
    "        Learning rate.\n",
    "    num_iters : int\n",
    "        Number of iterations to run gradient descent.\n",
    "\n",
    "    Returns\n",
    "    -------\n",
    "    w : np.ndarray\n",
    "        Updated weight vector after training.\n",
    "    b : float\n",
    "        Updated bias term.\n",
    "    cost_hist : list of floats\n",
    "        Cost values recorded at each iteration.\n",
    "    \"\"\"\n",
    "    m, n = X.shape\n",
    "    cost_hist = []\n",
    "\n",
    "    for _ in range(num_iters):\n",
    "        z = np.dot(X, w) + b              \n",
    "        y_pred = 1 / (1 + np.exp(-z))     \n",
    "\n",
    "        # Compute error\n",
    "        err = y_pred - y                  \n",
    "\n",
    "        # Compute gradients\n",
    "        w_grad = (1/m) * np.dot(X.T, err) \n",
    "        b_grad = (1/m) * np.sum(err)      \n",
    "\n",
    "        # Update weights\n",
    "        w = w - alpha * w_grad\n",
    "        b = b - alpha * b_grad\n",
    "\n",
    "        # Compute cost\n",
    "        cost = compute_cost(X, y, w, b)\n",
    "        cost_hist.append(cost)\n",
    "\n",
    "        if _ % 1000 == 0 or _ == (num_iters - 1):\n",
    "            print(f\"{'Iteration':<10}: {_:<4} | {'Cost':<5}: {cost:<4.2f}\")\n",
    "\n",
    "    return w, b, cost_hist"
   ]
  },
  {
   "cell_type": "code",
   "execution_count": 10,
   "id": "44dacb73-b359-487d-9ad7-e109200507ca",
   "metadata": {},
   "outputs": [
    {
     "name": "stdout",
     "output_type": "stream",
     "text": [
      "Iteration : 0    | Cost : 0.69\n",
      "Iteration : 1000 | Cost : 0.27\n",
      "Iteration : 2000 | Cost : 0.20\n",
      "Iteration : 3000 | Cost : 0.17\n",
      "Iteration : 4000 | Cost : 0.15\n",
      "Iteration : 5000 | Cost : 0.14\n",
      "Iteration : 6000 | Cost : 0.13\n",
      "Iteration : 7000 | Cost : 0.12\n",
      "Iteration : 8000 | Cost : 0.12\n",
      "Iteration : 9000 | Cost : 0.11\n",
      "Iteration : 9999 | Cost : 0.11\n",
      "Final Parameters:\n",
      "w: [-0.97313945  3.81308852  2.44352984  1.56999272  1.23914417]\n",
      "b: -1.5689\n"
     ]
    }
   ],
   "source": [
    "w_initial = np.zeros(5)\n",
    "b_initial = 0.0\n",
    "\n",
    "scaler = StandardScaler()\n",
    "X = scaler.fit_transform(df.iloc[:, :5].to_numpy())\n",
    "y = df.iloc[:, -1].to_numpy()\n",
    "\n",
    "w_final, b_final, cost_hist = gradient_update(X, y, w_initial, b_initial, 0.01, 10000)\n",
    "\n",
    "print(\"Final Parameters:\")\n",
    "print(f\"w: {w_final}\")\n",
    "print(f\"b: {b_final:.4f}\")"
   ]
  },
  {
   "cell_type": "markdown",
   "id": "17b1885b-bef8-44a8-84cb-f9dc4de180aa",
   "metadata": {},
   "source": [
    "After running gradient descent, the output shows the optimized weights and bias learned by the binary logistic regression model. These final parameters are what the model will use to make predictions, and they can be compared against the initial zero values to see how the training process adjusted them."
   ]
  },
  {
   "cell_type": "code",
   "execution_count": 11,
   "id": "7dbc032f-472b-4d5f-8274-c23a1236b901",
   "metadata": {},
   "outputs": [
    {
     "data": {
      "image/png": "[encoded data removed]",
      "text/plain": [
       "<Figure size 800x500 with 1 Axes>"
      ]
     },
     "metadata": {},
     "output_type": "display_data"
    }
   ],
   "source": [
    "iterations = list(range(len(cost_hist)))  # x-axis\n",
    "costs = cost_hist                         # y-axis\n",
    "\n",
    "plt.figure(figsize = (8, 5))\n",
    "plt.plot(iterations, costs, color = 'blue', linewidth = 2)\n",
    "plt.title(\"Gradient Descent: Cost vs Iterations\")\n",
    "plt.xlabel(\"Iteration\")\n",
    "plt.ylabel(\"Cost\")\n",
    "plt.grid(True)\n",
    "plt.show()"
   ]
  },
  {
   "cell_type": "markdown",
   "id": "231785b3-a67d-4ee6-a8d5-258e7a1d2262",
   "metadata": {},
   "source": [
    "The cost curve drops quickly at the start, showing that gradient descent makes big improvements early on. Around iteration ~2000, there’s an elbow where the cost still decreases but at a much slower rate, meaning the model is approaching its optimal parameters and further learning gives diminishing returns."
   ]
  },
  {
   "cell_type": "markdown",
   "id": "24ab6287-2b35-48ed-a5e8-e9ba26b49acd",
   "metadata": {},
   "source": [
    "### Model Performance"
   ]
  },
  {
   "cell_type": "code",
   "execution_count": 12,
   "id": "f9f51be5-eecb-4760-be09-d87354b8790e",
   "metadata": {},
   "outputs": [],
   "source": [
    "# Prediction Function\n",
    "def predict(X, w, b):\n",
    "    z = np.dot(X, w) + b\n",
    "    y_prob = 1 / (1 + np.exp(-z))\n",
    "    y_pred = (y_prob > 0.5).astype(int)\n",
    "    return y_pred"
   ]
  },
  {
   "cell_type": "code",
   "execution_count": 13,
   "id": "6ae579d6-6a19-4ecb-86e9-75ddb7022400",
   "metadata": {},
   "outputs": [
    {
     "name": "stdout",
     "output_type": "stream",
     "text": [
      "Accuracy: 99.20%\n"
     ]
    }
   ],
   "source": [
    "y_pred = predict(X, w_final, b_final)\n",
    "\n",
    "accuracy = np.mean(y_pred == y)\n",
    "print(f\"Accuracy: {accuracy * 100:.2f}%\")"
   ]
  },
  {
   "cell_type": "markdown",
   "id": "231c97a4-b0aa-4d1e-82c4-2adf77a9e2bb",
   "metadata": {},
   "source": [
    "Using the final trained weights and bias, the model predicts the labels which are matched to the true values using the evaluation metric of accuracy. The result shows that 99.2 % of predictions match with the actual values."
   ]
  },
  {
   "cell_type": "markdown",
   "id": "311aaabd-a426-4b90-9c89-c1d92050341d",
   "metadata": {},
   "source": [
    "## MultiClass Logistic Regression - Example Scenario"
   ]
  },
  {
   "cell_type": "markdown",
   "id": "e9a2a20c-f045-4ca9-80d1-b2c047624c19",
   "metadata": {},
   "source": [
    "### Generate synthetic data"
   ]
  },
  {
   "cell_type": "code",
   "execution_count": 14,
   "id": "83c1adc1-fe3d-4af9-8eed-8f81855d050b",
   "metadata": {},
   "outputs": [],
   "source": [
    "df, X, y = generate_student_data(m = 2000, num_classes = 3, random_state = 42)"
   ]
  },
  {
   "cell_type": "markdown",
   "id": "279c85c9-5552-4527-8398-f7ffb44dde37",
   "metadata": {},
   "source": [
    "### Understanding data"
   ]
  },
  {
   "cell_type": "code",
   "execution_count": 15,
   "id": "5e60eecd-fa1a-471b-8d70-78aff2237bd8",
   "metadata": {},
   "outputs": [
    {
     "data": {
      "text/html": [
       "<div>\n",
       "<style scoped>\n",
       "    .dataframe tbody tr th:only-of-type {\n",
       "        vertical-align: middle;\n",
       "    }\n",
       "\n",
       "    .dataframe tbody tr th {\n",
       "        vertical-align: top;\n",
       "    }\n",
       "\n",
       "    .dataframe thead th {\n",
       "        text-align: right;\n",
       "    }\n",
       "</style>\n",
       "<table border=\"1\" class=\"dataframe\">\n",
       "  <thead>\n",
       "    <tr style=\"text-align: right;\">\n",
       "      <th></th>\n",
       "      <th>age</th>\n",
       "      <th>study_hours</th>\n",
       "      <th>attendance</th>\n",
       "      <th>participation</th>\n",
       "      <th>sleep_hours</th>\n",
       "      <th>labels</th>\n",
       "    </tr>\n",
       "  </thead>\n",
       "  <tbody>\n",
       "    <tr>\n",
       "      <th>0</th>\n",
       "      <td>24</td>\n",
       "      <td>8</td>\n",
       "      <td>59</td>\n",
       "      <td>2</td>\n",
       "      <td>6</td>\n",
       "      <td>1</td>\n",
       "    </tr>\n",
       "    <tr>\n",
       "      <th>1</th>\n",
       "      <td>21</td>\n",
       "      <td>13</td>\n",
       "      <td>85</td>\n",
       "      <td>3</td>\n",
       "      <td>7</td>\n",
       "      <td>0</td>\n",
       "    </tr>\n",
       "    <tr>\n",
       "      <th>2</th>\n",
       "      <td>22</td>\n",
       "      <td>19</td>\n",
       "      <td>86</td>\n",
       "      <td>1</td>\n",
       "      <td>5</td>\n",
       "      <td>0</td>\n",
       "    </tr>\n",
       "    <tr>\n",
       "      <th>3</th>\n",
       "      <td>24</td>\n",
       "      <td>3</td>\n",
       "      <td>77</td>\n",
       "      <td>2</td>\n",
       "      <td>6</td>\n",
       "      <td>1</td>\n",
       "    </tr>\n",
       "    <tr>\n",
       "      <th>4</th>\n",
       "      <td>20</td>\n",
       "      <td>8</td>\n",
       "      <td>77</td>\n",
       "      <td>2</td>\n",
       "      <td>3</td>\n",
       "      <td>1</td>\n",
       "    </tr>\n",
       "    <tr>\n",
       "      <th>...</th>\n",
       "      <td>...</td>\n",
       "      <td>...</td>\n",
       "      <td>...</td>\n",
       "      <td>...</td>\n",
       "      <td>...</td>\n",
       "      <td>...</td>\n",
       "    </tr>\n",
       "    <tr>\n",
       "      <th>1995</th>\n",
       "      <td>21</td>\n",
       "      <td>17</td>\n",
       "      <td>50</td>\n",
       "      <td>2</td>\n",
       "      <td>8</td>\n",
       "      <td>2</td>\n",
       "    </tr>\n",
       "    <tr>\n",
       "      <th>1996</th>\n",
       "      <td>22</td>\n",
       "      <td>18</td>\n",
       "      <td>100</td>\n",
       "      <td>2</td>\n",
       "      <td>8</td>\n",
       "      <td>0</td>\n",
       "    </tr>\n",
       "    <tr>\n",
       "      <th>1997</th>\n",
       "      <td>22</td>\n",
       "      <td>12</td>\n",
       "      <td>85</td>\n",
       "      <td>2</td>\n",
       "      <td>3</td>\n",
       "      <td>1</td>\n",
       "    </tr>\n",
       "    <tr>\n",
       "      <th>1998</th>\n",
       "      <td>18</td>\n",
       "      <td>9</td>\n",
       "      <td>73</td>\n",
       "      <td>2</td>\n",
       "      <td>3</td>\n",
       "      <td>2</td>\n",
       "    </tr>\n",
       "    <tr>\n",
       "      <th>1999</th>\n",
       "      <td>19</td>\n",
       "      <td>5</td>\n",
       "      <td>76</td>\n",
       "      <td>4</td>\n",
       "      <td>5</td>\n",
       "      <td>1</td>\n",
       "    </tr>\n",
       "  </tbody>\n",
       "</table>\n",
       "<p>2000 rows × 6 columns</p>\n",
       "</div>"
      ],
      "text/plain": [
       "      age  study_hours  attendance  participation  sleep_hours  labels\n",
       "0      24            8          59              2            6       1\n",
       "1      21           13          85              3            7       0\n",
       "2      22           19          86              1            5       0\n",
       "3      24            3          77              2            6       1\n",
       "4      20            8          77              2            3       1\n",
       "...   ...          ...         ...            ...          ...     ...\n",
       "1995   21           17          50              2            8       2\n",
       "1996   22           18         100              2            8       0\n",
       "1997   22           12          85              2            3       1\n",
       "1998   18            9          73              2            3       2\n",
       "1999   19            5          76              4            5       1\n",
       "\n",
       "[2000 rows x 6 columns]"
      ]
     },
     "execution_count": 15,
     "metadata": {},
     "output_type": "execute_result"
    }
   ],
   "source": [
    "df"
   ]
  },
  {
   "cell_type": "code",
   "execution_count": 16,
   "id": "97fabd23-3411-4a83-861a-4c2ccc1fb61a",
   "metadata": {},
   "outputs": [
    {
     "name": "stdout",
     "output_type": "stream",
     "text": [
      "<class 'pandas.core.frame.DataFrame'>\n",
      "RangeIndex: 2000 entries, 0 to 1999\n",
      "Data columns (total 6 columns):\n",
      " #   Column         Non-Null Count  Dtype\n",
      "---  ------         --------------  -----\n",
      " 0   age            2000 non-null   int64\n",
      " 1   study_hours    2000 non-null   int64\n",
      " 2   attendance     2000 non-null   int64\n",
      " 3   participation  2000 non-null   int64\n",
      " 4   sleep_hours    2000 non-null   int64\n",
      " 5   labels         2000 non-null   int64\n",
      "dtypes: int64(6)\n",
      "memory usage: 93.9 KB\n"
     ]
    }
   ],
   "source": [
    "df.info()"
   ]
  },
  {
   "cell_type": "code",
   "execution_count": 17,
   "id": "2b0717eb-8499-45cd-91ab-0f60b7053f24",
   "metadata": {},
   "outputs": [
    {
     "data": {
      "text/html": [
       "<div>\n",
       "<style scoped>\n",
       "    .dataframe tbody tr th:only-of-type {\n",
       "        vertical-align: middle;\n",
       "    }\n",
       "\n",
       "    .dataframe tbody tr th {\n",
       "        vertical-align: top;\n",
       "    }\n",
       "\n",
       "    .dataframe thead th {\n",
       "        text-align: right;\n",
       "    }\n",
       "</style>\n",
       "<table border=\"1\" class=\"dataframe\">\n",
       "  <thead>\n",
       "    <tr style=\"text-align: right;\">\n",
       "      <th></th>\n",
       "      <th>age</th>\n",
       "      <th>study_hours</th>\n",
       "      <th>attendance</th>\n",
       "      <th>participation</th>\n",
       "      <th>sleep_hours</th>\n",
       "      <th>labels</th>\n",
       "    </tr>\n",
       "  </thead>\n",
       "  <tbody>\n",
       "    <tr>\n",
       "      <th>count</th>\n",
       "      <td>2000.000000</td>\n",
       "      <td>2000.000000</td>\n",
       "      <td>2000.000000</td>\n",
       "      <td>2000.000000</td>\n",
       "      <td>2000.000000</td>\n",
       "      <td>2000.000000</td>\n",
       "    </tr>\n",
       "    <tr>\n",
       "      <th>mean</th>\n",
       "      <td>20.967000</td>\n",
       "      <td>9.984000</td>\n",
       "      <td>75.050000</td>\n",
       "      <td>2.485000</td>\n",
       "      <td>4.985500</td>\n",
       "      <td>1.010500</td>\n",
       "    </tr>\n",
       "    <tr>\n",
       "      <th>std</th>\n",
       "      <td>2.014433</td>\n",
       "      <td>5.467329</td>\n",
       "      <td>14.727897</td>\n",
       "      <td>1.105616</td>\n",
       "      <td>1.992806</td>\n",
       "      <td>0.745431</td>\n",
       "    </tr>\n",
       "    <tr>\n",
       "      <th>min</th>\n",
       "      <td>18.000000</td>\n",
       "      <td>1.000000</td>\n",
       "      <td>50.000000</td>\n",
       "      <td>1.000000</td>\n",
       "      <td>2.000000</td>\n",
       "      <td>0.000000</td>\n",
       "    </tr>\n",
       "    <tr>\n",
       "      <th>25%</th>\n",
       "      <td>19.000000</td>\n",
       "      <td>5.000000</td>\n",
       "      <td>62.000000</td>\n",
       "      <td>2.000000</td>\n",
       "      <td>3.000000</td>\n",
       "      <td>0.000000</td>\n",
       "    </tr>\n",
       "    <tr>\n",
       "      <th>50%</th>\n",
       "      <td>21.000000</td>\n",
       "      <td>10.000000</td>\n",
       "      <td>75.000000</td>\n",
       "      <td>2.000000</td>\n",
       "      <td>5.000000</td>\n",
       "      <td>1.000000</td>\n",
       "    </tr>\n",
       "    <tr>\n",
       "      <th>75%</th>\n",
       "      <td>23.000000</td>\n",
       "      <td>15.000000</td>\n",
       "      <td>88.000000</td>\n",
       "      <td>3.000000</td>\n",
       "      <td>7.000000</td>\n",
       "      <td>2.000000</td>\n",
       "    </tr>\n",
       "    <tr>\n",
       "      <th>max</th>\n",
       "      <td>24.000000</td>\n",
       "      <td>19.000000</td>\n",
       "      <td>100.000000</td>\n",
       "      <td>4.000000</td>\n",
       "      <td>8.000000</td>\n",
       "      <td>2.000000</td>\n",
       "    </tr>\n",
       "  </tbody>\n",
       "</table>\n",
       "</div>"
      ],
      "text/plain": [
       "               age  study_hours   attendance  participation  sleep_hours  \\\n",
       "count  2000.000000  2000.000000  2000.000000    2000.000000  2000.000000   \n",
       "mean     20.967000     9.984000    75.050000       2.485000     4.985500   \n",
       "std       2.014433     5.467329    14.727897       1.105616     1.992806   \n",
       "min      18.000000     1.000000    50.000000       1.000000     2.000000   \n",
       "25%      19.000000     5.000000    62.000000       2.000000     3.000000   \n",
       "50%      21.000000    10.000000    75.000000       2.000000     5.000000   \n",
       "75%      23.000000    15.000000    88.000000       3.000000     7.000000   \n",
       "max      24.000000    19.000000   100.000000       4.000000     8.000000   \n",
       "\n",
       "            labels  \n",
       "count  2000.000000  \n",
       "mean      1.010500  \n",
       "std       0.745431  \n",
       "min       0.000000  \n",
       "25%       0.000000  \n",
       "50%       1.000000  \n",
       "75%       2.000000  \n",
       "max       2.000000  "
      ]
     },
     "execution_count": 17,
     "metadata": {},
     "output_type": "execute_result"
    }
   ],
   "source": [
    "df.describe()"
   ]
  },
  {
   "cell_type": "markdown",
   "id": "a01fcdb6-cb19-4dca-9e63-5d216dd9381b",
   "metadata": {},
   "source": [
    "### NumPy Implementation"
   ]
  },
  {
   "cell_type": "markdown",
   "id": "996e082a-1e12-4989-a62d-96522348c6f2",
   "metadata": {},
   "source": [
    "$$\n",
    "\\hat{y}_c^{(i)} = \\frac{e^{z_c}}{\\sum_{j=1}^{k} e^{z_j}}\n",
    "$$\n",
    "\n",
    "$$\n",
    "L(\\hat{\\mathbf{y}}^{(i)}, \\mathbf{y}^{(i)}) = - \\sum_{c=1}^{k} y^{(i)}_c \\, \\log \\hat{y}^{(i)}_c\n",
    "$$\n",
    "\n",
    "$$\n",
    "J(W, \\mathbf{b}) = -\\frac{1}{m} \\sum_{i=1}^m \\sum_{c=1}^k y_c^{(i)} \\log \\hat{y}_c^{(i)} = -\\frac{1}{m} \\sum_{i=1}^m L(\\hat{\\mathbf{y}}^{(i)}, \\mathbf{y}^{(i)})\n",
    "$$"
   ]
  },
  {
   "cell_type": "code",
   "execution_count": 18,
   "id": "ed57b9f8-3343-4843-9237-f1daa5cee24e",
   "metadata": {},
   "outputs": [],
   "source": [
    "# Cost Function\n",
    "def compute_cost(X, y, w, b):\n",
    "    \"\"\"\n",
    "    Compute multiclass logistic regression cost (cross-entropy with softmax).\n",
    "\n",
    "    Parameters\n",
    "    ----------\n",
    "    X : np.ndarray, shape (m, n)\n",
    "        Feature matrix with m examples and n features.\n",
    "    y : np.ndarray, shape (m, k)\n",
    "        One-hot encoded true labels (k = number of classes).\n",
    "    w : np.ndarray, shape (k, n)\n",
    "        Weight matrix for each class.\n",
    "    b : np.ndarray, shape (k,)\n",
    "        Bias vector for each class.\n",
    "\n",
    "    Returns\n",
    "    -------\n",
    "    cost : float\n",
    "        Average cross-entropy loss over all examples.\n",
    "    \"\"\"\n",
    "    m, n = X.shape\n",
    "    z = np.dot(X, w.T) + b\n",
    "    y_hat = np.exp(z) / np.sum(np.exp(z), axis = 1, keepdims = True)\n",
    "    cost = -np.sum(y_onehot * np.log(y_hat)) / m\n",
    "    return cost"
   ]
  },
  {
   "cell_type": "code",
   "execution_count": 19,
   "id": "0fa3796b-89f4-4fb0-b681-f3868c507bba",
   "metadata": {},
   "outputs": [
    {
     "data": {
      "text/plain": [
       "1.0986122886681096"
      ]
     },
     "execution_count": 19,
     "metadata": {},
     "output_type": "execute_result"
    }
   ],
   "source": [
    "w_initial = np.zeros((3, 5))\n",
    "b_initial = np.zeros(3)\n",
    "\n",
    "X = df.iloc[:, :5].to_numpy()\n",
    "\n",
    "# Initialize encoder\n",
    "encoder = OneHotEncoder(sparse_output = False)\n",
    "\n",
    "y = df.iloc[:, -1].to_numpy().reshape(-1, 1)\n",
    "\n",
    "# Fit and transform labels\n",
    "y_onehot = encoder.fit_transform(y)\n",
    "\n",
    "compute_cost(X, y_onehot, w_initial, b_initial)"
   ]
  },
  {
   "cell_type": "markdown",
   "id": "2cef5b26-7b62-49a5-8ca0-5863a55d690f",
   "metadata": {},
   "source": [
    "This output represents the initial cost of the multiclass logistic regression model when all weights and biases are set to zero and no training has been done yet."
   ]
  },
  {
   "cell_type": "markdown",
   "id": "1d6335aa-1f1e-4b9a-a71b-894bea81a134",
   "metadata": {},
   "source": [
    "Gradients:\n",
    "\n",
    "$$\n",
    "\\frac{\\partial J}{\\partial W} = \\frac{1}{m} (\\hat{Y} - Y)^\\top \\cdot X\n",
    "$$\n",
    "\n",
    "$$\n",
    "\\frac{\\partial J}{\\partial \\mathbf{b}} = \\frac{1}{m} (\\hat{Y} - Y)\n",
    "$$ \n",
    "\n",
    "Gradient Update:\n",
    "\n",
    "$$\n",
    "w_j := w_j - \\alpha \\frac{\\partial J}{\\partial w_j}, \\quad\n",
    "b := b - \\alpha \\frac{\\partial J}{\\partial b}\n",
    "$$"
   ]
  },
  {
   "cell_type": "code",
   "execution_count": 20,
   "id": "1bc35c8a-e625-4370-8a53-6922379d52f8",
   "metadata": {},
   "outputs": [],
   "source": [
    "# Gradient Descent Function\n",
    "def gradient_update(X, y, w, b, alpha, num_iters):\n",
    "    \"\"\"\n",
    "    Perform gradient descent for multiclass logistic regression (softmax).\n",
    "\n",
    "    Parameters\n",
    "    ----------\n",
    "    X : np.ndarray, shape (m, n)\n",
    "        Feature matrix with m examples and n features.\n",
    "    y : np.ndarray, shape (m, k)\n",
    "        One-hot encoded true labels (k = number of classes).\n",
    "    w : np.ndarray, shape (k, n)\n",
    "        Weight matrix for each class.\n",
    "    b : np.ndarray, shape (k,)\n",
    "        Bias vector for each class.\n",
    "    alpha : float\n",
    "        Learning rate.\n",
    "    num_iters : int\n",
    "        Number of gradient descent iterations.\n",
    "\n",
    "    Returns\n",
    "    -------\n",
    "    w : np.ndarray\n",
    "        Updated weight matrix after training.\n",
    "    b : np.ndarray\n",
    "        Updated bias vector.\n",
    "    cost_hist : list of floats\n",
    "        Cost recorded at each iteration.\n",
    "    \"\"\"\n",
    "    m, n = X.shape\n",
    "    cost_hist = []\n",
    "\n",
    "    for _ in range(num_iters):\n",
    "        z = np.dot(X, w.T) + b              \n",
    "        y_pred = np.exp(z) / np.sum(np.exp(z), axis = 1, keepdims = True)   \n",
    "\n",
    "        # Compute error\n",
    "        err = y_pred - y                 \n",
    "\n",
    "        # Compute gradients\n",
    "        w_grad = (1/m) * np.dot(err.T, X) \n",
    "        b_grad = (1/m) * np.sum(err, axis = 0, keepdims = True)      \n",
    "\n",
    "        # Update weights\n",
    "        w = w - alpha * w_grad\n",
    "        b = b - alpha * b_grad\n",
    "\n",
    "        # Compute cost\n",
    "        cost = compute_cost(X, y, w, b)\n",
    "        cost_hist.append(cost)\n",
    "\n",
    "        if _ % 1000 == 0 or _ == (num_iters - 1):\n",
    "            print(f\"{'Iteration':<10}: {_:<4} | {'Cost':<5}: {cost:<4.2f}\")\n",
    "\n",
    "    return w, b, cost_hist"
   ]
  },
  {
   "cell_type": "code",
   "execution_count": 21,
   "id": "5af94ab0-794e-434d-83d0-02a705a28f09",
   "metadata": {},
   "outputs": [
    {
     "name": "stdout",
     "output_type": "stream",
     "text": [
      "Iteration : 0    | Cost : 1.11\n",
      "Iteration : 1000 | Cost : 0.41\n",
      "Iteration : 2000 | Cost : 0.36\n",
      "Iteration : 3000 | Cost : 0.33\n",
      "Iteration : 4000 | Cost : 0.32\n",
      "Iteration : 5000 | Cost : 0.30\n",
      "Iteration : 6000 | Cost : 0.29\n",
      "Iteration : 7000 | Cost : 0.29\n",
      "Iteration : 8000 | Cost : 0.28\n",
      "Iteration : 9000 | Cost : 0.27\n",
      "Iteration : 9999 | Cost : 0.27\n",
      "Final Parameters:\n",
      "w:\n",
      " Class 0: [-0.7269, 0.4077, 0.1062, 0.4306, 0.2681]\n",
      " Class 1: [0.3383, -0.5087, 0.0132, -0.7529, -0.0597]\n",
      " Class 2: [0.3886, 0.1010, -0.1194, 0.3222, -0.2083]\n",
      "b:\n",
      " Class 0: -0.0625\n",
      " Class 1: -0.0463\n",
      " Class 2: 0.1088\n"
     ]
    }
   ],
   "source": [
    "w_final, b_final, cost_hist = gradient_update(X, y_onehot, w_initial, b_initial, 0.001, 10000)\n",
    "\n",
    "print(\"Final Parameters:\")\n",
    "print(\"w:\")\n",
    "for i, row in enumerate(w_final):\n",
    "    formatted_row = \", \".join([f\"{wi:.4f}\" for wi in row])\n",
    "    print(f\" Class {i}: [{formatted_row}]\")\n",
    "\n",
    "# Print biases neatly\n",
    "print(\"b:\")\n",
    "for i, bi in enumerate(b_final.flatten()):\n",
    "    print(f\" Class {i}: {bi:.4f}\")"
   ]
  },
  {
   "cell_type": "markdown",
   "id": "b02c7bed-5943-4a75-aada-24216eae3c86",
   "metadata": {},
   "source": [
    "After running gradient descent, the output shows the optimized weights and bias learned by the multiclass logistic regression model. These final parameters are what the model will use to make predictions, and they can be compared against the initial zero values to see how the training process adjusted them."
   ]
  },
  {
   "cell_type": "code",
   "execution_count": 22,
   "id": "54a10bd5-c971-48ef-936b-47a06bcd3820",
   "metadata": {},
   "outputs": [
    {
     "data": {
      "image/png": "[encoded data removed]",
      "text/plain": [
       "<Figure size 800x500 with 1 Axes>"
      ]
     },
     "metadata": {},
     "output_type": "display_data"
    }
   ],
   "source": [
    "iterations = list(range(len(cost_hist)))  # x-axis\n",
    "costs = cost_hist                         # y-axis\n",
    "\n",
    "plt.figure(figsize = (8, 5))\n",
    "plt.plot(iterations, costs, color = 'blue', linewidth = 2)\n",
    "plt.title(\"Gradient Descent: Cost vs Iterations\")\n",
    "plt.xlabel(\"Iteration\")\n",
    "plt.ylabel(\"Cost\")\n",
    "plt.grid(True)\n",
    "plt.show()"
   ]
  },
  {
   "cell_type": "markdown",
   "id": "8c9d16ef-a9ad-4743-bb35-5a3bbf5e5ffd",
   "metadata": {},
   "source": [
    "The cost curve drops quickly at the start, showing that gradient descent makes big improvements early on. Around iteration ~1000, there’s an elbow where the cost still decreases but at a much slower rate, meaning the model is approaching its optimal parameters and further learning gives diminishing returns."
   ]
  },
  {
   "cell_type": "markdown",
   "id": "3ad6cf46-b71f-4eb1-b558-19f9f03d554b",
   "metadata": {},
   "source": [
    "### Model Performance"
   ]
  },
  {
   "cell_type": "code",
   "execution_count": 23,
   "id": "dc90fd4c-0738-414d-9b4c-ebf86ff7217a",
   "metadata": {},
   "outputs": [],
   "source": [
    "# Prediction Function\n",
    "def predict(X, w, b):\n",
    "    z = np.dot(X, w.T) + b\n",
    "    y_hat = np.exp(z) / np.sum(np.exp(z), axis = 1, keepdims = True)  \n",
    "    return np.argmax(y_hat, axis = 1)"
   ]
  },
  {
   "cell_type": "code",
   "execution_count": 24,
   "id": "9cce2048-8ff3-43a2-99ca-bff9396bc278",
   "metadata": {},
   "outputs": [
    {
     "name": "stdout",
     "output_type": "stream",
     "text": [
      "Accuracy: 89.35%\n"
     ]
    }
   ],
   "source": [
    "y_pred = predict(X, w_final, b_final)\n",
    "\n",
    "accuracy = np.mean(y_pred == y.flatten())\n",
    "print(f\"Accuracy: {accuracy * 100:.2f}%\")"
   ]
  },
  {
   "cell_type": "markdown",
   "id": "0e04a121-aa9d-4795-9c2f-1dedf454d0aa",
   "metadata": {},
   "source": [
    "Using the final trained weights and bias, the model predicts the labels which are matched to the true values using the evaluation metric of accuracy. The result shows that 89.35 % of predictions match with the actual values."
   ]
  }
 ],
 "metadata": {
  "kernelspec": {
   "display_name": "Python 3 (ipykernel)",
   "language": "python",
   "name": "python3"
  },
  "language_info": {
   "codemirror_mode": {
    "name": "ipython",
    "version": 3
   },
   "file_extension": ".py",
   "mimetype": "text/x-python",
   "name": "python",
   "nbconvert_exporter": "python",
   "pygments_lexer": "ipython3",
   "version": "3.12.5"
  }
 },
 "nbformat": 4,
 "nbformat_minor": 5
}
