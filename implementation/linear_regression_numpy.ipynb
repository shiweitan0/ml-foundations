{
 "cells": [
  {
   "cell_type": "markdown",
   "id": "c8eaca21-5f64-4a16-bbdd-5b88d299d0b9",
   "metadata": {},
   "source": [
    "# Linear Regression (NumPy Implementation)\n",
    "\n",
    "This notebook demonstrates linear regression implemented from scratch using NumPy.  \n",
    "It shows the full computation pipeline: from cost calculation (Mean Squared Error) to gradient descent updates.  \n",
    "This approach exposes the underlying mathematics and complements the theory notes in `theory/linear_regression_math.md`."
   ]
  },
  {
   "cell_type": "markdown",
   "id": "48dbdce5-d015-4f1a-a89c-d46714f3ae4d",
   "metadata": {},
   "source": [
    "## Scenario: House Price Prediction\n",
    "\n",
    "We use a synthetic dataset representing **houses with various features**.  \n",
    "\n",
    "**Features include:**\n",
    "- Number of bedrooms\n",
    "- Size in square meters\n",
    "- Age of the house\n",
    "- Distance to city center\n",
    "- Number of floors\n",
    "\n",
    "**Target variable:**\n",
    "- House price in thousands of dollars"
   ]
  },
  {
   "cell_type": "markdown",
   "id": "c94188c8-7a46-4ffd-be2b-001f06374ca9",
   "metadata": {},
   "source": [
    "## Imports"
   ]
  },
  {
   "cell_type": "code",
   "execution_count": 1,
   "id": "16a0f895-0b7c-4e0f-a13c-025c09a883b1",
   "metadata": {},
   "outputs": [],
   "source": [
    "import numpy as np\n",
    "import pandas as pd\n",
    "import matplotlib.pyplot as plt\n",
    "from sklearn.preprocessing import StandardScaler"
   ]
  },
  {
   "cell_type": "markdown",
   "id": "7d3f2640-c0ac-4e19-8f05-fad1fbe326ae",
   "metadata": {},
   "source": [
    "## Helper Function: Generate Synthetic Data"
   ]
  },
  {
   "cell_type": "code",
   "execution_count": 2,
   "id": "e7529b18-841c-42f8-99fd-e23117839fbb",
   "metadata": {},
   "outputs": [],
   "source": [
    "from sklearn.preprocessing import StandardScaler\n",
    "import numpy as np\n",
    "import pandas as pd\n",
    "\n",
    "def generate_house_data(m=2000, random_state=42):\n",
    "    \"\"\"\n",
    "    Generate synthetic house price data with both raw and scaled features.\n",
    "    \n",
    "    Returns:\n",
    "        df_raw : DataFrame with raw features and actual price\n",
    "        X_scaled : np.ndarray of standardized features\n",
    "        y_scaled : np.ndarray of target using scaled features and weights (0-1)\n",
    "    \"\"\"\n",
    "    np.random.seed(random_state)\n",
    "    \n",
    "    # Generate raw features\n",
    "    bedrooms = np.random.randint(1, 6, m)\n",
    "    size = np.random.randint(30, 300, m)\n",
    "    age = np.random.randint(0, 100, m)\n",
    "    distance = np.random.randint(1, 30, m)\n",
    "    floors = np.random.randint(1, 3, m)\n",
    "\n",
    "    X_raw = np.column_stack([bedrooms, size, age, distance, floors])\n",
    "    \n",
    "    # ---------- Dataset 1: actual house prices ----------\n",
    "    # Realistic weights and bias for raw features\n",
    "    raw_weights = np.array([50000, 3000, -1000, -5000, 10000])\n",
    "    raw_bias = 50000\n",
    "    \n",
    "    # Compute actual prices\n",
    "    y_raw = np.dot(X_raw, raw_weights) + raw_bias\n",
    "    \n",
    "    df_raw = pd.DataFrame(\n",
    "        data=np.column_stack([X_raw, y_raw]),\n",
    "        columns=['bedrooms', 'size', 'age', 'distance', 'floors', 'price']\n",
    "    )\n",
    "    \n",
    "    # ---------- Dataset 2: scaled features ----------\n",
    "    scaler = StandardScaler()\n",
    "    X_scaled = scaler.fit_transform(X_raw)\n",
    "    \n",
    "    # Scaled weights and bias (0-1 range)\n",
    "    scaled_weights = np.array([0.05, 0.3, -0.02, -0.1, 0.01])\n",
    "    scaled_bias = 0.5\n",
    "    \n",
    "    # Compute target for scaled features\n",
    "    y_scaled = np.dot(X_scaled, scaled_weights) + scaled_bias\n",
    "    \n",
    "    return df_raw, X_scaled, y_scaled"
   ]
  },
  {
   "cell_type": "markdown",
   "id": "86f393fa-a9a2-4a0f-b858-0708a098074d",
   "metadata": {},
   "source": [
    "## Linear Regression - Example Scenario"
   ]
  },
  {
   "cell_type": "markdown",
   "id": "39a52bda-a348-4a30-b6ab-bff214d24f7a",
   "metadata": {},
   "source": [
    "### Generate Synthetic Data"
   ]
  },
  {
   "cell_type": "code",
   "execution_count": 3,
   "id": "78cd4aca-fdc9-4385-920c-dcef51efcb29",
   "metadata": {},
   "outputs": [],
   "source": [
    "df, X, y = generate_house_data(m = 2000, random_state = 42)"
   ]
  },
  {
   "cell_type": "code",
   "execution_count": 4,
   "id": "55ea95bd-331b-4158-bf28-b707a6e7bd8f",
   "metadata": {},
   "outputs": [
    {
     "data": {
      "text/plain": [
       "array([[ 0.70498146,  0.33050457, -0.45090498, -0.12184273, -1.00803226],\n",
       "       [ 1.40402108, -1.6140622 , -1.66829801, -0.71999066, -1.00803226],\n",
       "       [ 0.00594184,  0.04338733, -0.79873156,  1.43334188, -1.00803226],\n",
       "       ...,\n",
       "       [-1.39213741, -0.21762834, -0.7639489 ,  1.55297147,  0.99203175],\n",
       "       [ 1.40402108, -1.49660515, -1.04221017, -0.71999066, -1.00803226],\n",
       "       [ 0.00594184,  1.13965316,  1.35779322, -1.67702735,  0.99203175]])"
      ]
     },
     "execution_count": 4,
     "metadata": {},
     "output_type": "execute_result"
    }
   ],
   "source": [
    "X"
   ]
  },
  {
   "cell_type": "markdown",
   "id": "bad966fd-1ff4-4ec5-a108-342cd8c62195",
   "metadata": {},
   "source": [
    "### Understanding Data"
   ]
  },
  {
   "cell_type": "code",
   "execution_count": 5,
   "id": "b71847ad-5b94-4725-8d8e-fb9825c35c73",
   "metadata": {},
   "outputs": [
    {
     "data": {
      "text/html": [
       "<div>\n",
       "<style scoped>\n",
       "    .dataframe tbody tr th:only-of-type {\n",
       "        vertical-align: middle;\n",
       "    }\n",
       "\n",
       "    .dataframe tbody tr th {\n",
       "        vertical-align: top;\n",
       "    }\n",
       "\n",
       "    .dataframe thead th {\n",
       "        text-align: right;\n",
       "    }\n",
       "</style>\n",
       "<table border=\"1\" class=\"dataframe\">\n",
       "  <thead>\n",
       "    <tr style=\"text-align: right;\">\n",
       "      <th></th>\n",
       "      <th>bedrooms</th>\n",
       "      <th>size</th>\n",
       "      <th>age</th>\n",
       "      <th>distance</th>\n",
       "      <th>floors</th>\n",
       "      <th>price</th>\n",
       "    </tr>\n",
       "  </thead>\n",
       "  <tbody>\n",
       "    <tr>\n",
       "      <th>0</th>\n",
       "      <td>4</td>\n",
       "      <td>189</td>\n",
       "      <td>37</td>\n",
       "      <td>14</td>\n",
       "      <td>1</td>\n",
       "      <td>720000</td>\n",
       "    </tr>\n",
       "    <tr>\n",
       "      <th>1</th>\n",
       "      <td>5</td>\n",
       "      <td>40</td>\n",
       "      <td>2</td>\n",
       "      <td>9</td>\n",
       "      <td>1</td>\n",
       "      <td>383000</td>\n",
       "    </tr>\n",
       "    <tr>\n",
       "      <th>2</th>\n",
       "      <td>3</td>\n",
       "      <td>167</td>\n",
       "      <td>27</td>\n",
       "      <td>27</td>\n",
       "      <td>1</td>\n",
       "      <td>549000</td>\n",
       "    </tr>\n",
       "    <tr>\n",
       "      <th>3</th>\n",
       "      <td>5</td>\n",
       "      <td>107</td>\n",
       "      <td>55</td>\n",
       "      <td>15</td>\n",
       "      <td>1</td>\n",
       "      <td>501000</td>\n",
       "    </tr>\n",
       "    <tr>\n",
       "      <th>4</th>\n",
       "      <td>5</td>\n",
       "      <td>106</td>\n",
       "      <td>89</td>\n",
       "      <td>12</td>\n",
       "      <td>1</td>\n",
       "      <td>479000</td>\n",
       "    </tr>\n",
       "  </tbody>\n",
       "</table>\n",
       "</div>"
      ],
      "text/plain": [
       "   bedrooms  size  age  distance  floors   price\n",
       "0         4   189   37        14       1  720000\n",
       "1         5    40    2         9       1  383000\n",
       "2         3   167   27        27       1  549000\n",
       "3         5   107   55        15       1  501000\n",
       "4         5   106   89        12       1  479000"
      ]
     },
     "execution_count": 5,
     "metadata": {},
     "output_type": "execute_result"
    }
   ],
   "source": [
    "df.head()"
   ]
  },
  {
   "cell_type": "code",
   "execution_count": 6,
   "id": "b3d6ab5b-e243-4e54-a63a-7cd7ddb02ed7",
   "metadata": {},
   "outputs": [
    {
     "name": "stdout",
     "output_type": "stream",
     "text": [
      "<class 'pandas.core.frame.DataFrame'>\n",
      "RangeIndex: 2000 entries, 0 to 1999\n",
      "Data columns (total 6 columns):\n",
      " #   Column    Non-Null Count  Dtype\n",
      "---  ------    --------------  -----\n",
      " 0   bedrooms  2000 non-null   int32\n",
      " 1   size      2000 non-null   int32\n",
      " 2   age       2000 non-null   int32\n",
      " 3   distance  2000 non-null   int32\n",
      " 4   floors    2000 non-null   int32\n",
      " 5   price     2000 non-null   int32\n",
      "dtypes: int32(6)\n",
      "memory usage: 47.0 KB\n"
     ]
    }
   ],
   "source": [
    "df.info()"
   ]
  },
  {
   "cell_type": "code",
   "execution_count": 7,
   "id": "d92ad2a7-a84d-47c4-b38f-f151954cc19f",
   "metadata": {},
   "outputs": [
    {
     "data": {
      "text/html": [
       "<div>\n",
       "<style scoped>\n",
       "    .dataframe tbody tr th:only-of-type {\n",
       "        vertical-align: middle;\n",
       "    }\n",
       "\n",
       "    .dataframe tbody tr th {\n",
       "        vertical-align: top;\n",
       "    }\n",
       "\n",
       "    .dataframe thead th {\n",
       "        text-align: right;\n",
       "    }\n",
       "</style>\n",
       "<table border=\"1\" class=\"dataframe\">\n",
       "  <thead>\n",
       "    <tr style=\"text-align: right;\">\n",
       "      <th></th>\n",
       "      <th>bedrooms</th>\n",
       "      <th>size</th>\n",
       "      <th>age</th>\n",
       "      <th>distance</th>\n",
       "      <th>floors</th>\n",
       "      <th>price</th>\n",
       "    </tr>\n",
       "  </thead>\n",
       "  <tbody>\n",
       "    <tr>\n",
       "      <th>count</th>\n",
       "      <td>2000.000000</td>\n",
       "      <td>2000.000000</td>\n",
       "      <td>2000.00000</td>\n",
       "      <td>2000.000000</td>\n",
       "      <td>2000.000000</td>\n",
       "      <td>2.000000e+03</td>\n",
       "    </tr>\n",
       "    <tr>\n",
       "      <th>mean</th>\n",
       "      <td>2.991500</td>\n",
       "      <td>163.675500</td>\n",
       "      <td>49.96350</td>\n",
       "      <td>15.018500</td>\n",
       "      <td>1.504000</td>\n",
       "      <td>5.805855e+05</td>\n",
       "    </tr>\n",
       "    <tr>\n",
       "      <th>std</th>\n",
       "      <td>1.430892</td>\n",
       "      <td>76.642914</td>\n",
       "      <td>28.75715</td>\n",
       "      <td>8.361227</td>\n",
       "      <td>0.500109</td>\n",
       "      <td>2.468645e+05</td>\n",
       "    </tr>\n",
       "    <tr>\n",
       "      <th>min</th>\n",
       "      <td>1.000000</td>\n",
       "      <td>30.000000</td>\n",
       "      <td>0.00000</td>\n",
       "      <td>1.000000</td>\n",
       "      <td>1.000000</td>\n",
       "      <td>-9.000000e+03</td>\n",
       "    </tr>\n",
       "    <tr>\n",
       "      <th>25%</th>\n",
       "      <td>2.000000</td>\n",
       "      <td>97.000000</td>\n",
       "      <td>25.00000</td>\n",
       "      <td>8.000000</td>\n",
       "      <td>1.000000</td>\n",
       "      <td>3.830000e+05</td>\n",
       "    </tr>\n",
       "    <tr>\n",
       "      <th>50%</th>\n",
       "      <td>3.000000</td>\n",
       "      <td>164.000000</td>\n",
       "      <td>51.00000</td>\n",
       "      <td>15.000000</td>\n",
       "      <td>2.000000</td>\n",
       "      <td>5.725000e+05</td>\n",
       "    </tr>\n",
       "    <tr>\n",
       "      <th>75%</th>\n",
       "      <td>4.000000</td>\n",
       "      <td>229.250000</td>\n",
       "      <td>75.25000</td>\n",
       "      <td>22.000000</td>\n",
       "      <td>2.000000</td>\n",
       "      <td>7.790000e+05</td>\n",
       "    </tr>\n",
       "    <tr>\n",
       "      <th>max</th>\n",
       "      <td>5.000000</td>\n",
       "      <td>299.000000</td>\n",
       "      <td>99.00000</td>\n",
       "      <td>29.000000</td>\n",
       "      <td>2.000000</td>\n",
       "      <td>1.178000e+06</td>\n",
       "    </tr>\n",
       "  </tbody>\n",
       "</table>\n",
       "</div>"
      ],
      "text/plain": [
       "          bedrooms         size         age     distance       floors  \\\n",
       "count  2000.000000  2000.000000  2000.00000  2000.000000  2000.000000   \n",
       "mean      2.991500   163.675500    49.96350    15.018500     1.504000   \n",
       "std       1.430892    76.642914    28.75715     8.361227     0.500109   \n",
       "min       1.000000    30.000000     0.00000     1.000000     1.000000   \n",
       "25%       2.000000    97.000000    25.00000     8.000000     1.000000   \n",
       "50%       3.000000   164.000000    51.00000    15.000000     2.000000   \n",
       "75%       4.000000   229.250000    75.25000    22.000000     2.000000   \n",
       "max       5.000000   299.000000    99.00000    29.000000     2.000000   \n",
       "\n",
       "              price  \n",
       "count  2.000000e+03  \n",
       "mean   5.805855e+05  \n",
       "std    2.468645e+05  \n",
       "min   -9.000000e+03  \n",
       "25%    3.830000e+05  \n",
       "50%    5.725000e+05  \n",
       "75%    7.790000e+05  \n",
       "max    1.178000e+06  "
      ]
     },
     "execution_count": 7,
     "metadata": {},
     "output_type": "execute_result"
    }
   ],
   "source": [
    "df.describe()"
   ]
  },
  {
   "cell_type": "markdown",
   "id": "84537119-b1b9-45ef-bcc1-344083aaebcf",
   "metadata": {},
   "source": [
    "### NumPy Implementation"
   ]
  },
  {
   "cell_type": "markdown",
   "id": "f8f8dbbc-c8f7-44ff-9c38-3b13afcb0930",
   "metadata": {},
   "source": [
    "The Mean Squared Error (MSE) cost function is defined as:  \n",
    "\n",
    "$$\n",
    "J(w,b) = \\frac{1}{2m} \\sum_{i=1}^m (\\hat{y}^{(i)} - y^{(i)})^2\n",
    "$$"
   ]
  },
  {
   "cell_type": "code",
   "execution_count": 8,
   "id": "7de4467c-a502-48d2-9828-20eea337886f",
   "metadata": {},
   "outputs": [],
   "source": [
    "def compute_cost(X, y, w, b):\n",
    "    \"\"\"\n",
    "    Compute the Mean Squared Error (MSE) cost for linear regression.\n",
    "\n",
    "    Parameters:\n",
    "        X : np.ndarray\n",
    "            Feature matrix of shape (m, n), where m is the number of examples.\n",
    "        y : np.ndarray\n",
    "            True target values of shape (m,).\n",
    "        w : np.ndarray\n",
    "            Weight vector of shape (n,).\n",
    "        b : float\n",
    "            Bias term.\n",
    "\n",
    "    Returns:\n",
    "        cost : float\n",
    "            Average MSE cost over all examples.\n",
    "    \"\"\"\n",
    "    m = X.shape[0]\n",
    "    predictions = np.dot(X, w) + b\n",
    "    cost = (1/(2*m)) * np.sum((predictions - y)**2)\n",
    "    return cost"
   ]
  },
  {
   "cell_type": "code",
   "execution_count": 9,
   "id": "ede56342-a941-4933-abe3-b66200794e83",
   "metadata": {},
   "outputs": [
    {
     "data": {
      "text/plain": [
       "0.17709551803102222"
      ]
     },
     "execution_count": 9,
     "metadata": {},
     "output_type": "execute_result"
    }
   ],
   "source": [
    "w_initial = np.zeros(5)\n",
    "b_initial = 0.0\n",
    "compute_cost(X, y, w_initial, b_initial)"
   ]
  },
  {
   "cell_type": "markdown",
   "id": "d141d02e-927a-4b2d-b346-fdd5cdfb81c2",
   "metadata": {},
   "source": [
    "This output represents the initial cost of the linear regression model when all weights and biases are set to zero and no training has been done yet."
   ]
  },
  {
   "cell_type": "markdown",
   "id": "da4866a8-d506-4b9c-a859-976e4d6e909f",
   "metadata": {},
   "source": [
    "Gradients:\n",
    "\n",
    "$$\n",
    "\\frac{\\partial J}{\\partial w_j} = \\frac{1}{m} \\sum_{i=1}^m \\big( \\hat{y}^{(i)} - y^{(i)} \\big) x_j^{(i)}\n",
    "$$\n",
    "\n",
    "$$\n",
    "\\frac{\\partial J}{\\partial b} = \\frac{1}{m} \\sum_{i=1}^m \\big( \\hat{y}^{(i)} - y^{(i)} \\big)\n",
    "$$\n",
    "\n",
    "Gradient update:\n",
    "$$\n",
    "w_j := w_j - \\alpha \\frac{\\partial J}{\\partial w_j}, \\quad\n",
    "b := b - \\alpha \\frac{\\partial J}{\\partial b}\n",
    "$$"
   ]
  },
  {
   "cell_type": "code",
   "execution_count": 10,
   "id": "d5a95d10-e9ac-42f9-b841-788f81b776e0",
   "metadata": {},
   "outputs": [],
   "source": [
    "def gradient_descent(X, y, w, b, alpha, num_iters):\n",
    "    \"\"\"\n",
    "    Perform gradient descent to optimize weights and bias for linear regression.\n",
    "\n",
    "    Parameters:\n",
    "        X : np.ndarray\n",
    "            Feature matrix of shape (m, n), where m is the number of examples.\n",
    "        y : np.ndarray\n",
    "            True target values of shape (m,).\n",
    "        w : np.ndarray\n",
    "            Initial weight vector of shape (n,).\n",
    "        b : float\n",
    "            Initial bias term.\n",
    "        alpha : float\n",
    "            Learning rate for gradient updates.\n",
    "        num_iters : int\n",
    "            Number of iterations to run gradient descent.\n",
    "\n",
    "    Returns:\n",
    "        w : np.ndarray\n",
    "            Optimized weight vector after gradient descent.\n",
    "        b : float\n",
    "            Optimized bias term after gradient descent.\n",
    "        cost_history : list of float\n",
    "            Recorded cost at each iteration.\n",
    "    \"\"\"\n",
    "    m = X.shape[0]\n",
    "    cost_history = []\n",
    "    \n",
    "    for i in range(num_iters):\n",
    "        predictions = np.dot(X, w) + b\n",
    "        error = predictions - y\n",
    "        \n",
    "        # Compute gradients\n",
    "        w_grad = (1/m) * np.dot(X.T, error)\n",
    "        b_grad = (1/m) * np.sum(error)\n",
    "        \n",
    "        # Update weights and bias\n",
    "        w -= alpha * w_grad\n",
    "        b -= alpha * b_grad\n",
    "        \n",
    "        # Compute and store cost\n",
    "        cost = compute_cost(X, y, w, b)\n",
    "        cost_history.append(cost)\n",
    "        \n",
    "        if i % 100 == 0 or i == num_iters-1:\n",
    "            print(f\"{'Iteration':<10}: {_:<4} | {'Cost':<5}: {cost:<4.6f}\")\n",
    "    \n",
    "    return w, b, cost_history"
   ]
  },
  {
   "cell_type": "code",
   "execution_count": 11,
   "id": "d05841c8-b48a-469e-9207-83f239449db9",
   "metadata": {},
   "outputs": [
    {
     "name": "stdout",
     "output_type": "stream",
     "text": [
      "Iteration : 0.17709551803102222 | Cost : 0.176918\n",
      "Iteration : 0.17709551803102222 | Cost : 0.160004\n",
      "Iteration : 0.17709551803102222 | Cost : 0.144709\n",
      "Iteration : 0.17709551803102222 | Cost : 0.130878\n",
      "Iteration : 0.17709551803102222 | Cost : 0.118371\n",
      "Iteration : 0.17709551803102222 | Cost : 0.107060\n",
      "Iteration : 0.17709551803102222 | Cost : 0.096831\n",
      "Iteration : 0.17709551803102222 | Cost : 0.087581\n",
      "Iteration : 0.17709551803102222 | Cost : 0.079215\n",
      "Iteration : 0.17709551803102222 | Cost : 0.071650\n",
      "Iteration : 0.17709551803102222 | Cost : 0.064807\n",
      "Iteration : 0.17709551803102222 | Cost : 0.058619\n",
      "Iteration : 0.17709551803102222 | Cost : 0.053023\n",
      "Iteration : 0.17709551803102222 | Cost : 0.047961\n",
      "Iteration : 0.17709551803102222 | Cost : 0.043383\n",
      "Iteration : 0.17709551803102222 | Cost : 0.039243\n",
      "Iteration : 0.17709551803102222 | Cost : 0.035498\n",
      "Iteration : 0.17709551803102222 | Cost : 0.032111\n",
      "Iteration : 0.17709551803102222 | Cost : 0.029048\n",
      "Iteration : 0.17709551803102222 | Cost : 0.026277\n",
      "Iteration : 0.17709551803102222 | Cost : 0.023771\n",
      "Iteration : 0.17709551803102222 | Cost : 0.021504\n",
      "Iteration : 0.17709551803102222 | Cost : 0.019453\n",
      "Iteration : 0.17709551803102222 | Cost : 0.017598\n",
      "Iteration : 0.17709551803102222 | Cost : 0.015921\n",
      "Iteration : 0.17709551803102222 | Cost : 0.014403\n",
      "Iteration : 0.17709551803102222 | Cost : 0.013030\n",
      "Iteration : 0.17709551803102222 | Cost : 0.011789\n",
      "Iteration : 0.17709551803102222 | Cost : 0.010665\n",
      "Iteration : 0.17709551803102222 | Cost : 0.009649\n",
      "Iteration : 0.17709551803102222 | Cost : 0.008739\n",
      "Final Parameters:\n",
      "w: [ 0.03742002  0.23340479 -0.01852435 -0.0790861   0.01388773]\n",
      "b: 0.3885\n"
     ]
    }
   ],
   "source": [
    "w_initial = np.zeros(5)\n",
    "b_initial = 0.0\n",
    "\n",
    "w_final, b_final, cost_hist = gradient_descent(X, y, w_initial, b_initial, 0.0005, 3000)\n",
    "\n",
    "print(\"Final Parameters:\")\n",
    "print(f\"w: {w_final}\")\n",
    "print(f\"b: {b_final:.4f}\")"
   ]
  },
  {
   "cell_type": "markdown",
   "id": "c9cd9a15-58d8-464a-8f61-1ed03e1b9e3a",
   "metadata": {},
   "source": [
    "After running gradient descent, the output shows the optimized weights and bias learned by the binary logistic regression model. These final parameters are what the model will use to make predictions, and they can be compared against the initial zero values to see how the training process adjusted them."
   ]
  },
  {
   "cell_type": "code",
   "execution_count": 12,
   "id": "37bbd769-bd7c-46dd-8d5c-abd54bdfd1ff",
   "metadata": {},
   "outputs": [
    {
     "data": {
      "image/png": "[encoded data removed]",
      "text/plain": [
       "<Figure size 800x500 with 1 Axes>"
      ]
     },
     "metadata": {},
     "output_type": "display_data"
    }
   ],
   "source": [
    "iterations = list(range(len(cost_hist)))  # x-axis\n",
    "costs = cost_hist                         # y-axis\n",
    "\n",
    "plt.figure(figsize = (8, 5))\n",
    "plt.plot(iterations, costs, color = 'blue', linewidth = 2)\n",
    "plt.title(\"Gradient Descent: Cost vs Iterations\")\n",
    "plt.xlabel(\"Iteration\")\n",
    "plt.ylabel(\"Cost\")\n",
    "plt.grid(True)\n",
    "plt.show()"
   ]
  },
  {
   "cell_type": "markdown",
   "id": "9d8f8647-f383-4bb9-8dc5-d3b763e204d8",
   "metadata": {},
   "source": [
    "The cost curve drops quickly at the start, showing that gradient descent makes big improvements early on. Around iteration ~1000, there’s an elbow where the cost still decreases but at a much slower rate, meaning the model is approaching its optimal parameters and further learning gives diminishing returns."
   ]
  },
  {
   "cell_type": "markdown",
   "id": "6ac0ad15-7d03-47d1-8a0e-e1b8749cb75b",
   "metadata": {},
   "source": [
    "### Model Performance"
   ]
  },
  {
   "cell_type": "code",
   "execution_count": 13,
   "id": "5c4016e1-a52c-4685-be5e-60aeed4c74b5",
   "metadata": {},
   "outputs": [],
   "source": [
    "# Prediction Function for Linear Regression\n",
    "def predict(X, w, b):\n",
    "    \"\"\"\n",
    "    Compute predicted values for a regression task using linear regression.\n",
    "\n",
    "    Parameters:\n",
    "        X : np.ndarray\n",
    "            Feature matrix (m examples × n features)\n",
    "        w : np.ndarray\n",
    "            Weight vector learned from training\n",
    "        b : float\n",
    "            Bias term learned from training\n",
    "\n",
    "    Returns:\n",
    "        y_pred : np.ndarray\n",
    "            Predicted continuous values for each example\n",
    "    \"\"\"\n",
    "    # Compute the linear combination z = X·w + b\n",
    "    y_pred = np.dot(X, w) + b\n",
    "    \n",
    "    return y_pred"
   ]
  },
  {
   "cell_type": "code",
   "execution_count": 14,
   "id": "058c6565-3149-484a-b84f-5b26230b83c1",
   "metadata": {},
   "outputs": [
    {
     "name": "stdout",
     "output_type": "stream",
     "text": [
      "Mean Squared Error (MSE): 0.02\n"
     ]
    }
   ],
   "source": [
    "# Generate predictions using the trained linear regression model\n",
    "y_pred = predict(X, w_final, b_final)\n",
    "\n",
    "# Compute Mean Squared Error\n",
    "mse = np.mean((y_pred - y)**2)\n",
    "print(f\"Mean Squared Error (MSE): {mse:.2f}\")"
   ]
  },
  {
   "cell_type": "markdown",
   "id": "754585be-b081-485d-a23b-ae8c91825335",
   "metadata": {},
   "source": [
    "Using the final trained weights and bias, the model generates predictions which are compared to the true values using the evaluation metric of mean squared error (MSE). The result shows that the model achieves an MSE of 0.02, indicating a close fit between predicted and actual values."
   ]
  }
 ],
 "metadata": {
  "kernelspec": {
   "display_name": "Python 3 (ipykernel)",
   "language": "python",
   "name": "python3"
  },
  "language_info": {
   "codemirror_mode": {
    "name": "ipython",
    "version": 3
   },
   "file_extension": ".py",
   "mimetype": "text/x-python",
   "name": "python",
   "nbconvert_exporter": "python",
   "pygments_lexer": "ipython3",
   "version": "3.12.5"
  }
 },
 "nbformat": 4,
 "nbformat_minor": 5
}
